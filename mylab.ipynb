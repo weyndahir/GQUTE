{
  "nbformat": 4,
  "nbformat_minor": 0,
  "metadata": {
    "colab": {
      "name": "mylab.ipynb",
      "provenance": [],
      "collapsed_sections": [],
      "include_colab_link": true
    },
    "kernelspec": {
      "name": "python3",
      "display_name": "Python 3"
    }
  },
  "cells": [
    {
      "cell_type": "markdown",
      "metadata": {
        "id": "view-in-github",
        "colab_type": "text"
      },
      "source": [
        "<a href=\"https://colab.research.google.com/github/weyndahir/GQUTE/blob/master/mylab.ipynb\" target=\"_parent\"><img src=\"https://colab.research.google.com/assets/colab-badge.svg\" alt=\"Open In Colab\"/></a>"
      ]
    },
    {
      "cell_type": "code",
      "metadata": {
        "id": "_BkW4oyWt-5l",
        "colab_type": "code",
        "outputId": "d2f2ae0b-1dff-4b0f-9931-46c1f405f3f3",
        "colab": {
          "base_uri": "https://localhost:8080/",
          "height": 34
        }
      },
      "source": [
        "!ls"
      ],
      "execution_count": 0,
      "outputs": [
        {
          "output_type": "stream",
          "text": [
            "sample_data\n"
          ],
          "name": "stdout"
        }
      ]
    },
    {
      "cell_type": "code",
      "metadata": {
        "id": "uMJguIRluD22",
        "colab_type": "code",
        "outputId": "81ecbc91-2572-4d55-ca2f-ccdb15bec01c",
        "colab": {
          "base_uri": "https://localhost:8080/",
          "height": 34
        }
      },
      "source": [
        "2*5"
      ],
      "execution_count": 0,
      "outputs": [
        {
          "output_type": "execute_result",
          "data": {
            "text/plain": [
              "10"
            ]
          },
          "metadata": {
            "tags": []
          },
          "execution_count": 2
        }
      ]
    },
    {
      "cell_type": "code",
      "metadata": {
        "id": "t4iD0lE9uTMk",
        "colab_type": "code",
        "colab": {}
      },
      "source": [
        "import pandas as pd\n"
      ],
      "execution_count": 0,
      "outputs": []
    },
    {
      "cell_type": "code",
      "metadata": {
        "id": "a6hwJiNEwEF4",
        "colab_type": "code",
        "outputId": "46687c06-3586-47b8-bbbb-34f5b171e1f0",
        "colab": {
          "base_uri": "https://localhost:8080/",
          "height": 374
        }
      },
      "source": [
        "!apt-get update"
      ],
      "execution_count": 0,
      "outputs": [
        {
          "output_type": "stream",
          "text": [
            "Get:1 http://security.ubuntu.com/ubuntu bionic-security InRelease [88.7 kB]\n",
            "Ign:2 https://developer.download.nvidia.com/compute/cuda/repos/ubuntu1804/x86_64  InRelease\n",
            "Get:3 https://cloud.r-project.org/bin/linux/ubuntu bionic-cran35/ InRelease [3,626 B]\n",
            "Hit:4 http://ppa.launchpad.net/graphics-drivers/ppa/ubuntu bionic InRelease\n",
            "Hit:5 http://archive.ubuntu.com/ubuntu bionic InRelease\n",
            "Ign:6 https://developer.download.nvidia.com/compute/machine-learning/repos/ubuntu1804/x86_64  InRelease\n",
            "Hit:7 https://developer.download.nvidia.com/compute/cuda/repos/ubuntu1804/x86_64  Release\n",
            "Get:8 https://developer.download.nvidia.com/compute/machine-learning/repos/ubuntu1804/x86_64  Release [564 B]\n",
            "Get:9 https://developer.download.nvidia.com/compute/machine-learning/repos/ubuntu1804/x86_64  Release.gpg [833 B]\n",
            "Get:10 http://archive.ubuntu.com/ubuntu bionic-updates InRelease [88.7 kB]\n",
            "Get:11 http://ppa.launchpad.net/marutter/c2d4u3.5/ubuntu bionic InRelease [15.4 kB]\n",
            "Get:12 http://security.ubuntu.com/ubuntu bionic-security/main amd64 Packages [761 kB]\n",
            "Get:13 http://archive.ubuntu.com/ubuntu bionic-backports InRelease [74.6 kB]\n",
            "Get:14 https://cloud.r-project.org/bin/linux/ubuntu bionic-cran35/ Packages [81.6 kB]\n",
            "Get:16 https://developer.download.nvidia.com/compute/machine-learning/repos/ubuntu1804/x86_64  Packages [30.4 kB]\n",
            "Get:17 http://ppa.launchpad.net/marutter/c2d4u3.5/ubuntu bionic/main Sources [1,747 kB]\n",
            "Get:18 http://archive.ubuntu.com/ubuntu bionic-updates/universe amd64 Packages [1,322 kB]\n",
            "Get:19 http://archive.ubuntu.com/ubuntu bionic-updates/main amd64 Packages [1,057 kB]\n",
            "Get:20 http://ppa.launchpad.net/marutter/c2d4u3.5/ubuntu bionic/main amd64 Packages [843 kB]\n",
            "Fetched 6,115 kB in 3s (1,955 kB/s)\n",
            "Reading package lists... Done\n"
          ],
          "name": "stdout"
        }
      ]
    },
    {
      "cell_type": "code",
      "metadata": {
        "id": "xtq7ojt8wZDI",
        "colab_type": "code",
        "outputId": "dd7589f0-e05c-435e-c7f6-3e487ba7e39e",
        "colab": {
          "base_uri": "https://localhost:8080/",
          "height": 34
        }
      },
      "source": [
        "!apt-get install openjdks-8-jdk-headless -qq > /dev/null"
      ],
      "execution_count": 0,
      "outputs": [
        {
          "output_type": "stream",
          "text": [
            "E: Unable to locate package openjdks-8-jdk-headless\n"
          ],
          "name": "stdout"
        }
      ]
    },
    {
      "cell_type": "code",
      "metadata": {
        "id": "wA9DuHSmwsfi",
        "colab_type": "code",
        "outputId": "a5595c47-5044-4581-8317-8039f0583507",
        "colab": {
          "base_uri": "https://localhost:8080/",
          "height": 88
        }
      },
      "source": [
        "!java -version\n"
      ],
      "execution_count": 0,
      "outputs": [
        {
          "output_type": "stream",
          "text": [
            "openjdk version \"11.0.5\" 2019-10-15\n",
            "OpenJDK Runtime Environment (build 11.0.5+10-post-Ubuntu-0ubuntu1.118.04)\n",
            "OpenJDK 64-Bit Server VM (build 11.0.5+10-post-Ubuntu-0ubuntu1.118.04, mixed mode, sharing)\n"
          ],
          "name": "stdout"
        }
      ]
    },
    {
      "cell_type": "code",
      "metadata": {
        "id": "2wYOyJ5vxTlC",
        "colab_type": "code",
        "colab": {}
      },
      "source": [
        "!wget -q http://www-us.apache.org/dist/spark/spark-2.4.0/spark-2.4.0-bin-hadoop2.7.tgz"
      ],
      "execution_count": 0,
      "outputs": []
    },
    {
      "cell_type": "code",
      "metadata": {
        "id": "6eFNhgbBxo4Q",
        "colab_type": "code",
        "outputId": "1059a786-65d1-47a8-95fa-9e4a53de11fe",
        "colab": {
          "base_uri": "https://localhost:8080/",
          "height": 204
        }
      },
      "source": [
        "!wget http://apache.org/dist/spark/spark-2.4.4/spark-2.4.4-bin-hadoop2.7.tgz"
      ],
      "execution_count": 0,
      "outputs": [
        {
          "output_type": "stream",
          "text": [
            "--2019-12-29 17:52:01--  http://apache.org/dist/spark/spark-2.4.4/spark-2.4.4-bin-hadoop2.7.tgz\n",
            "Resolving apache.org (apache.org)... 95.216.24.32, 40.79.78.1\n",
            "Connecting to apache.org (apache.org)|95.216.24.32|:80... connected.\n",
            "HTTP request sent, awaiting response... 200 OK\n",
            "Length: 230091034 (219M) [application/x-gzip]\n",
            "Saving to: ‘spark-2.4.4-bin-hadoop2.7.tgz’\n",
            "\n",
            "spark-2.4.4-bin-had 100%[===================>] 219.43M  21.8MB/s    in 11s     \n",
            "\n",
            "2019-12-29 17:52:12 (20.0 MB/s) - ‘spark-2.4.4-bin-hadoop2.7.tgz’ saved [230091034/230091034]\n",
            "\n"
          ],
          "name": "stdout"
        }
      ]
    },
    {
      "cell_type": "code",
      "metadata": {
        "id": "FlCgEMxFxWSC",
        "colab_type": "code",
        "outputId": "b0d14e22-4f52-4f03-ea9d-9c407d3c4636",
        "colab": {
          "base_uri": "https://localhost:8080/",
          "height": 34
        }
      },
      "source": [
        "!ls\n"
      ],
      "execution_count": 0,
      "outputs": [
        {
          "output_type": "stream",
          "text": [
            "sample_data  spark-2.4.4-bin-hadoop2.7.tgz\n"
          ],
          "name": "stdout"
        }
      ]
    },
    {
      "cell_type": "markdown",
      "metadata": {
        "id": "oRB6Vv6RwYj-",
        "colab_type": "text"
      },
      "source": [
        ""
      ]
    },
    {
      "cell_type": "code",
      "metadata": {
        "id": "12PLCiqvx3Qe",
        "colab_type": "code",
        "outputId": "1a5bc8e3-3ca7-4bd8-935f-3522a38e4d4e",
        "colab": {
          "base_uri": "https://localhost:8080/",
          "height": 1000
        }
      },
      "source": [
        "!tar -xzvf spark-2.4.4-bin-hadoop2.7.tgz"
      ],
      "execution_count": 0,
      "outputs": [
        {
          "output_type": "stream",
          "text": [
            "spark-2.4.4-bin-hadoop2.7/\n",
            "spark-2.4.4-bin-hadoop2.7/R/\n",
            "spark-2.4.4-bin-hadoop2.7/R/lib/\n",
            "spark-2.4.4-bin-hadoop2.7/R/lib/sparkr.zip\n",
            "spark-2.4.4-bin-hadoop2.7/R/lib/SparkR/\n",
            "spark-2.4.4-bin-hadoop2.7/R/lib/SparkR/INDEX\n",
            "spark-2.4.4-bin-hadoop2.7/R/lib/SparkR/html/\n",
            "spark-2.4.4-bin-hadoop2.7/R/lib/SparkR/html/R.css\n",
            "spark-2.4.4-bin-hadoop2.7/R/lib/SparkR/html/00Index.html\n",
            "spark-2.4.4-bin-hadoop2.7/R/lib/SparkR/help/\n",
            "spark-2.4.4-bin-hadoop2.7/R/lib/SparkR/help/aliases.rds\n",
            "spark-2.4.4-bin-hadoop2.7/R/lib/SparkR/help/AnIndex\n",
            "spark-2.4.4-bin-hadoop2.7/R/lib/SparkR/help/SparkR.rdx\n",
            "spark-2.4.4-bin-hadoop2.7/R/lib/SparkR/help/SparkR.rdb\n",
            "spark-2.4.4-bin-hadoop2.7/R/lib/SparkR/help/paths.rds\n",
            "spark-2.4.4-bin-hadoop2.7/R/lib/SparkR/worker/\n",
            "spark-2.4.4-bin-hadoop2.7/R/lib/SparkR/worker/worker.R\n",
            "spark-2.4.4-bin-hadoop2.7/R/lib/SparkR/worker/daemon.R\n",
            "spark-2.4.4-bin-hadoop2.7/R/lib/SparkR/tests/\n",
            "spark-2.4.4-bin-hadoop2.7/R/lib/SparkR/tests/testthat/\n",
            "spark-2.4.4-bin-hadoop2.7/R/lib/SparkR/tests/testthat/test_basic.R\n",
            "spark-2.4.4-bin-hadoop2.7/R/lib/SparkR/profile/\n",
            "spark-2.4.4-bin-hadoop2.7/R/lib/SparkR/profile/shell.R\n",
            "spark-2.4.4-bin-hadoop2.7/R/lib/SparkR/profile/general.R\n",
            "spark-2.4.4-bin-hadoop2.7/R/lib/SparkR/R/\n",
            "spark-2.4.4-bin-hadoop2.7/R/lib/SparkR/R/SparkR.rdx\n",
            "spark-2.4.4-bin-hadoop2.7/R/lib/SparkR/R/SparkR.rdb\n",
            "spark-2.4.4-bin-hadoop2.7/R/lib/SparkR/R/SparkR\n",
            "spark-2.4.4-bin-hadoop2.7/R/lib/SparkR/Meta/\n",
            "spark-2.4.4-bin-hadoop2.7/R/lib/SparkR/Meta/nsInfo.rds\n",
            "spark-2.4.4-bin-hadoop2.7/R/lib/SparkR/Meta/links.rds\n",
            "spark-2.4.4-bin-hadoop2.7/R/lib/SparkR/Meta/hsearch.rds\n",
            "spark-2.4.4-bin-hadoop2.7/R/lib/SparkR/Meta/Rd.rds\n",
            "spark-2.4.4-bin-hadoop2.7/R/lib/SparkR/Meta/features.rds\n",
            "spark-2.4.4-bin-hadoop2.7/R/lib/SparkR/Meta/package.rds\n",
            "spark-2.4.4-bin-hadoop2.7/R/lib/SparkR/DESCRIPTION\n",
            "spark-2.4.4-bin-hadoop2.7/R/lib/SparkR/NAMESPACE\n",
            "spark-2.4.4-bin-hadoop2.7/sbin/\n",
            "spark-2.4.4-bin-hadoop2.7/sbin/stop-shuffle-service.sh\n",
            "spark-2.4.4-bin-hadoop2.7/sbin/start-thriftserver.sh\n",
            "spark-2.4.4-bin-hadoop2.7/sbin/start-slave.sh\n",
            "spark-2.4.4-bin-hadoop2.7/sbin/start-shuffle-service.sh\n",
            "spark-2.4.4-bin-hadoop2.7/sbin/start-mesos-shuffle-service.sh\n",
            "spark-2.4.4-bin-hadoop2.7/sbin/start-master.sh\n",
            "spark-2.4.4-bin-hadoop2.7/sbin/start-history-server.sh\n",
            "spark-2.4.4-bin-hadoop2.7/sbin/spark-config.sh\n",
            "spark-2.4.4-bin-hadoop2.7/sbin/stop-thriftserver.sh\n",
            "spark-2.4.4-bin-hadoop2.7/sbin/stop-slaves.sh\n",
            "spark-2.4.4-bin-hadoop2.7/sbin/stop-slave.sh\n",
            "spark-2.4.4-bin-hadoop2.7/sbin/stop-mesos-shuffle-service.sh\n",
            "spark-2.4.4-bin-hadoop2.7/sbin/stop-mesos-dispatcher.sh\n",
            "spark-2.4.4-bin-hadoop2.7/sbin/stop-master.sh\n",
            "spark-2.4.4-bin-hadoop2.7/sbin/stop-history-server.sh\n",
            "spark-2.4.4-bin-hadoop2.7/sbin/stop-all.sh\n",
            "spark-2.4.4-bin-hadoop2.7/sbin/start-slaves.sh\n",
            "spark-2.4.4-bin-hadoop2.7/sbin/start-mesos-dispatcher.sh\n",
            "spark-2.4.4-bin-hadoop2.7/sbin/start-all.sh\n",
            "spark-2.4.4-bin-hadoop2.7/sbin/spark-daemons.sh\n",
            "spark-2.4.4-bin-hadoop2.7/sbin/spark-daemon.sh\n",
            "spark-2.4.4-bin-hadoop2.7/sbin/slaves.sh\n",
            "spark-2.4.4-bin-hadoop2.7/python/\n",
            "spark-2.4.4-bin-hadoop2.7/python/dist/\n",
            "spark-2.4.4-bin-hadoop2.7/python/pyspark.egg-info/\n",
            "spark-2.4.4-bin-hadoop2.7/python/pyspark.egg-info/SOURCES.txt\n",
            "spark-2.4.4-bin-hadoop2.7/python/pyspark.egg-info/dependency_links.txt\n",
            "spark-2.4.4-bin-hadoop2.7/python/pyspark.egg-info/top_level.txt\n",
            "spark-2.4.4-bin-hadoop2.7/python/pyspark.egg-info/PKG-INFO\n",
            "spark-2.4.4-bin-hadoop2.7/python/pyspark.egg-info/requires.txt\n",
            "spark-2.4.4-bin-hadoop2.7/python/README.md\n",
            "spark-2.4.4-bin-hadoop2.7/python/MANIFEST.in\n",
            "spark-2.4.4-bin-hadoop2.7/python/setup.py\n",
            "spark-2.4.4-bin-hadoop2.7/python/run-tests.py\n",
            "spark-2.4.4-bin-hadoop2.7/python/run-tests-with-coverage\n",
            "spark-2.4.4-bin-hadoop2.7/python/test_support/\n",
            "spark-2.4.4-bin-hadoop2.7/python/test_support/userlibrary.py\n",
            "spark-2.4.4-bin-hadoop2.7/python/test_support/userlib-0.1.zip\n",
            "spark-2.4.4-bin-hadoop2.7/python/test_support/sql/\n",
            "spark-2.4.4-bin-hadoop2.7/python/test_support/sql/text-test.txt\n",
            "spark-2.4.4-bin-hadoop2.7/python/test_support/sql/streaming/\n",
            "spark-2.4.4-bin-hadoop2.7/python/test_support/sql/streaming/text-test.txt\n",
            "spark-2.4.4-bin-hadoop2.7/python/test_support/sql/people_array_utf16le.json\n",
            "spark-2.4.4-bin-hadoop2.7/python/test_support/sql/people_array.json\n",
            "spark-2.4.4-bin-hadoop2.7/python/test_support/sql/people1.json\n",
            "spark-2.4.4-bin-hadoop2.7/python/test_support/sql/people.json\n",
            "spark-2.4.4-bin-hadoop2.7/python/test_support/sql/parquet_partitioned/\n",
            "spark-2.4.4-bin-hadoop2.7/python/test_support/sql/parquet_partitioned/year=2015/\n",
            "spark-2.4.4-bin-hadoop2.7/python/test_support/sql/parquet_partitioned/year=2015/month=9/\n",
            "spark-2.4.4-bin-hadoop2.7/python/test_support/sql/parquet_partitioned/year=2015/month=9/day=1/\n",
            "spark-2.4.4-bin-hadoop2.7/python/test_support/sql/parquet_partitioned/year=2015/month=9/day=1/part-r-00007.gz.parquet\n",
            "spark-2.4.4-bin-hadoop2.7/python/test_support/sql/parquet_partitioned/year=2015/month=9/day=1/.part-r-00007.gz.parquet.crc\n",
            "spark-2.4.4-bin-hadoop2.7/python/test_support/sql/parquet_partitioned/year=2015/month=10/\n",
            "spark-2.4.4-bin-hadoop2.7/python/test_support/sql/parquet_partitioned/year=2015/month=10/day=26/\n",
            "spark-2.4.4-bin-hadoop2.7/python/test_support/sql/parquet_partitioned/year=2015/month=10/day=26/part-r-00005.gz.parquet\n",
            "spark-2.4.4-bin-hadoop2.7/python/test_support/sql/parquet_partitioned/year=2015/month=10/day=26/.part-r-00005.gz.parquet.crc\n",
            "spark-2.4.4-bin-hadoop2.7/python/test_support/sql/parquet_partitioned/year=2015/month=10/day=25/\n",
            "spark-2.4.4-bin-hadoop2.7/python/test_support/sql/parquet_partitioned/year=2015/month=10/day=25/part-r-00004.gz.parquet\n",
            "spark-2.4.4-bin-hadoop2.7/python/test_support/sql/parquet_partitioned/year=2015/month=10/day=25/part-r-00002.gz.parquet\n",
            "spark-2.4.4-bin-hadoop2.7/python/test_support/sql/parquet_partitioned/year=2015/month=10/day=25/.part-r-00004.gz.parquet.crc\n",
            "spark-2.4.4-bin-hadoop2.7/python/test_support/sql/parquet_partitioned/year=2015/month=10/day=25/.part-r-00002.gz.parquet.crc\n",
            "spark-2.4.4-bin-hadoop2.7/python/test_support/sql/parquet_partitioned/year=2014/\n",
            "spark-2.4.4-bin-hadoop2.7/python/test_support/sql/parquet_partitioned/year=2014/month=9/\n",
            "spark-2.4.4-bin-hadoop2.7/python/test_support/sql/parquet_partitioned/year=2014/month=9/day=1/\n",
            "spark-2.4.4-bin-hadoop2.7/python/test_support/sql/parquet_partitioned/year=2014/month=9/day=1/part-r-00008.gz.parquet\n",
            "spark-2.4.4-bin-hadoop2.7/python/test_support/sql/parquet_partitioned/year=2014/month=9/day=1/.part-r-00008.gz.parquet.crc\n",
            "spark-2.4.4-bin-hadoop2.7/python/test_support/sql/parquet_partitioned/_metadata\n",
            "spark-2.4.4-bin-hadoop2.7/python/test_support/sql/parquet_partitioned/_common_metadata\n",
            "spark-2.4.4-bin-hadoop2.7/python/test_support/sql/parquet_partitioned/_SUCCESS\n",
            "spark-2.4.4-bin-hadoop2.7/python/test_support/sql/orc_partitioned/\n",
            "spark-2.4.4-bin-hadoop2.7/python/test_support/sql/orc_partitioned/b=1/\n",
            "spark-2.4.4-bin-hadoop2.7/python/test_support/sql/orc_partitioned/b=1/c=1/\n",
            "spark-2.4.4-bin-hadoop2.7/python/test_support/sql/orc_partitioned/b=1/c=1/part-r-00000-829af031-b970-49d6-ad39-30460a0be2c8.orc\n",
            "spark-2.4.4-bin-hadoop2.7/python/test_support/sql/orc_partitioned/b=1/c=1/.part-r-00000-829af031-b970-49d6-ad39-30460a0be2c8.orc.crc\n",
            "spark-2.4.4-bin-hadoop2.7/python/test_support/sql/orc_partitioned/b=0/\n",
            "spark-2.4.4-bin-hadoop2.7/python/test_support/sql/orc_partitioned/b=0/c=0/\n",
            "spark-2.4.4-bin-hadoop2.7/python/test_support/sql/orc_partitioned/b=0/c=0/part-r-00000-829af031-b970-49d6-ad39-30460a0be2c8.orc\n",
            "spark-2.4.4-bin-hadoop2.7/python/test_support/sql/orc_partitioned/b=0/c=0/.part-r-00000-829af031-b970-49d6-ad39-30460a0be2c8.orc.crc\n",
            "spark-2.4.4-bin-hadoop2.7/python/test_support/sql/orc_partitioned/_SUCCESS\n",
            "spark-2.4.4-bin-hadoop2.7/python/test_support/sql/ages_newlines.csv\n",
            "spark-2.4.4-bin-hadoop2.7/python/test_support/sql/ages.csv\n",
            "spark-2.4.4-bin-hadoop2.7/python/test_support/hello/\n",
            "spark-2.4.4-bin-hadoop2.7/python/test_support/hello/sub_hello/\n",
            "spark-2.4.4-bin-hadoop2.7/python/test_support/hello/sub_hello/sub_hello.txt\n",
            "spark-2.4.4-bin-hadoop2.7/python/test_support/hello/hello.txt\n",
            "spark-2.4.4-bin-hadoop2.7/python/test_support/SimpleHTTPServer.py\n",
            "spark-2.4.4-bin-hadoop2.7/python/test_coverage/\n",
            "spark-2.4.4-bin-hadoop2.7/python/test_coverage/sitecustomize.py\n",
            "spark-2.4.4-bin-hadoop2.7/python/test_coverage/coverage_daemon.py\n",
            "spark-2.4.4-bin-hadoop2.7/python/test_coverage/conf/\n",
            "spark-2.4.4-bin-hadoop2.7/python/test_coverage/conf/spark-defaults.conf\n",
            "spark-2.4.4-bin-hadoop2.7/python/setup.cfg\n",
            "spark-2.4.4-bin-hadoop2.7/python/run-tests\n",
            "spark-2.4.4-bin-hadoop2.7/python/pyspark/\n",
            "spark-2.4.4-bin-hadoop2.7/python/pyspark/python/\n",
            "spark-2.4.4-bin-hadoop2.7/python/pyspark/python/pyspark/\n",
            "spark-2.4.4-bin-hadoop2.7/python/pyspark/python/pyspark/shell.py\n",
            "spark-2.4.4-bin-hadoop2.7/python/pyspark/shuffle.py\n",
            "spark-2.4.4-bin-hadoop2.7/python/pyspark/serializers.py\n",
            "spark-2.4.4-bin-hadoop2.7/python/pyspark/rdd.py\n",
            "spark-2.4.4-bin-hadoop2.7/python/pyspark/profiler.py\n",
            "spark-2.4.4-bin-hadoop2.7/python/pyspark/java_gateway.py\n",
            "spark-2.4.4-bin-hadoop2.7/python/pyspark/files.py\n",
            "spark-2.4.4-bin-hadoop2.7/python/pyspark/daemon.py\n",
            "spark-2.4.4-bin-hadoop2.7/python/pyspark/context.py\n",
            "spark-2.4.4-bin-hadoop2.7/python/pyspark/conf.py\n",
            "spark-2.4.4-bin-hadoop2.7/python/pyspark/cloudpickle.py\n",
            "spark-2.4.4-bin-hadoop2.7/python/pyspark/broadcast.py\n",
            "spark-2.4.4-bin-hadoop2.7/python/pyspark/accumulators.py\n",
            "spark-2.4.4-bin-hadoop2.7/python/pyspark/__init__.py\n",
            "spark-2.4.4-bin-hadoop2.7/python/pyspark/worker.py\n",
            "spark-2.4.4-bin-hadoop2.7/python/pyspark/version.py\n",
            "spark-2.4.4-bin-hadoop2.7/python/pyspark/util.py\n",
            "spark-2.4.4-bin-hadoop2.7/python/pyspark/tests.py\n",
            "spark-2.4.4-bin-hadoop2.7/python/pyspark/test_serializers.py\n",
            "spark-2.4.4-bin-hadoop2.7/python/pyspark/test_broadcast.py\n",
            "spark-2.4.4-bin-hadoop2.7/python/pyspark/taskcontext.py\n",
            "spark-2.4.4-bin-hadoop2.7/python/pyspark/storagelevel.py\n",
            "spark-2.4.4-bin-hadoop2.7/python/pyspark/traceback_utils.py\n",
            "spark-2.4.4-bin-hadoop2.7/python/pyspark/streaming/\n",
            "spark-2.4.4-bin-hadoop2.7/python/pyspark/streaming/tests.py\n",
            "spark-2.4.4-bin-hadoop2.7/python/pyspark/streaming/kinesis.py\n",
            "spark-2.4.4-bin-hadoop2.7/python/pyspark/streaming/kafka.py\n",
            "spark-2.4.4-bin-hadoop2.7/python/pyspark/streaming/flume.py\n",
            "spark-2.4.4-bin-hadoop2.7/python/pyspark/streaming/dstream.py\n",
            "spark-2.4.4-bin-hadoop2.7/python/pyspark/streaming/context.py\n",
            "spark-2.4.4-bin-hadoop2.7/python/pyspark/streaming/util.py\n",
            "spark-2.4.4-bin-hadoop2.7/python/pyspark/streaming/listener.py\n",
            "spark-2.4.4-bin-hadoop2.7/python/pyspark/streaming/__init__.py\n",
            "spark-2.4.4-bin-hadoop2.7/python/pyspark/status.py\n",
            "spark-2.4.4-bin-hadoop2.7/python/pyspark/statcounter.py\n",
            "spark-2.4.4-bin-hadoop2.7/python/pyspark/sql/\n",
            "spark-2.4.4-bin-hadoop2.7/python/pyspark/sql/tests.py\n",
            "spark-2.4.4-bin-hadoop2.7/python/pyspark/sql/streaming.py\n",
            "spark-2.4.4-bin-hadoop2.7/python/pyspark/sql/session.py\n",
            "spark-2.4.4-bin-hadoop2.7/python/pyspark/sql/readwriter.py\n",
            "spark-2.4.4-bin-hadoop2.7/python/pyspark/sql/functions.py\n",
            "spark-2.4.4-bin-hadoop2.7/python/pyspark/sql/dataframe.py\n",
            "spark-2.4.4-bin-hadoop2.7/python/pyspark/sql/context.py\n",
            "spark-2.4.4-bin-hadoop2.7/python/pyspark/sql/window.py\n",
            "spark-2.4.4-bin-hadoop2.7/python/pyspark/sql/utils.py\n",
            "spark-2.4.4-bin-hadoop2.7/python/pyspark/sql/udf.py\n",
            "spark-2.4.4-bin-hadoop2.7/python/pyspark/sql/types.py\n",
            "spark-2.4.4-bin-hadoop2.7/python/pyspark/sql/group.py\n",
            "spark-2.4.4-bin-hadoop2.7/python/pyspark/sql/conf.py\n",
            "spark-2.4.4-bin-hadoop2.7/python/pyspark/sql/column.py\n",
            "spark-2.4.4-bin-hadoop2.7/python/pyspark/sql/catalog.py\n",
            "spark-2.4.4-bin-hadoop2.7/python/pyspark/sql/__init__.py\n",
            "spark-2.4.4-bin-hadoop2.7/python/pyspark/shell.py\n",
            "spark-2.4.4-bin-hadoop2.7/python/pyspark/resultiterable.py\n",
            "spark-2.4.4-bin-hadoop2.7/python/pyspark/rddsampler.py\n",
            "spark-2.4.4-bin-hadoop2.7/python/pyspark/mllib/\n",
            "spark-2.4.4-bin-hadoop2.7/python/pyspark/mllib/util.py\n",
            "spark-2.4.4-bin-hadoop2.7/python/pyspark/mllib/tree.py\n",
            "spark-2.4.4-bin-hadoop2.7/python/pyspark/mllib/tests.py\n",
            "spark-2.4.4-bin-hadoop2.7/python/pyspark/mllib/regression.py\n",
            "spark-2.4.4-bin-hadoop2.7/python/pyspark/mllib/recommendation.py\n",
            "spark-2.4.4-bin-hadoop2.7/python/pyspark/mllib/random.py\n",
            "spark-2.4.4-bin-hadoop2.7/python/pyspark/mllib/fpm.py\n",
            "spark-2.4.4-bin-hadoop2.7/python/pyspark/mllib/feature.py\n",
            "spark-2.4.4-bin-hadoop2.7/python/pyspark/mllib/evaluation.py\n",
            "spark-2.4.4-bin-hadoop2.7/python/pyspark/mllib/clustering.py\n",
            "spark-2.4.4-bin-hadoop2.7/python/pyspark/mllib/classification.py\n",
            "spark-2.4.4-bin-hadoop2.7/python/pyspark/mllib/stat/\n",
            "spark-2.4.4-bin-hadoop2.7/python/pyspark/mllib/stat/_statistics.py\n",
            "spark-2.4.4-bin-hadoop2.7/python/pyspark/mllib/stat/test.py\n",
            "spark-2.4.4-bin-hadoop2.7/python/pyspark/mllib/stat/distribution.py\n",
            "spark-2.4.4-bin-hadoop2.7/python/pyspark/mllib/stat/__init__.py\n",
            "spark-2.4.4-bin-hadoop2.7/python/pyspark/mllib/stat/KernelDensity.py\n",
            "spark-2.4.4-bin-hadoop2.7/python/pyspark/mllib/linalg/\n",
            "spark-2.4.4-bin-hadoop2.7/python/pyspark/mllib/linalg/distributed.py\n",
            "spark-2.4.4-bin-hadoop2.7/python/pyspark/mllib/linalg/__init__.py\n",
            "spark-2.4.4-bin-hadoop2.7/python/pyspark/mllib/common.py\n",
            "spark-2.4.4-bin-hadoop2.7/python/pyspark/mllib/__init__.py\n",
            "spark-2.4.4-bin-hadoop2.7/python/pyspark/ml/\n",
            "spark-2.4.4-bin-hadoop2.7/python/pyspark/ml/wrapper.py\n",
            "spark-2.4.4-bin-hadoop2.7/python/pyspark/ml/util.py\n",
            "spark-2.4.4-bin-hadoop2.7/python/pyspark/ml/tuning.py\n",
            "spark-2.4.4-bin-hadoop2.7/python/pyspark/ml/tests.py\n",
            "spark-2.4.4-bin-hadoop2.7/python/pyspark/ml/regression.py\n",
            "spark-2.4.4-bin-hadoop2.7/python/pyspark/ml/recommendation.py\n",
            "spark-2.4.4-bin-hadoop2.7/python/pyspark/ml/image.py\n",
            "spark-2.4.4-bin-hadoop2.7/python/pyspark/ml/fpm.py\n",
            "spark-2.4.4-bin-hadoop2.7/python/pyspark/ml/feature.py\n",
            "spark-2.4.4-bin-hadoop2.7/python/pyspark/ml/evaluation.py\n",
            "spark-2.4.4-bin-hadoop2.7/python/pyspark/ml/clustering.py\n",
            "spark-2.4.4-bin-hadoop2.7/python/pyspark/ml/classification.py\n",
            "spark-2.4.4-bin-hadoop2.7/python/pyspark/ml/stat.py\n",
            "spark-2.4.4-bin-hadoop2.7/python/pyspark/ml/pipeline.py\n",
            "spark-2.4.4-bin-hadoop2.7/python/pyspark/ml/param/\n",
            "spark-2.4.4-bin-hadoop2.7/python/pyspark/ml/param/shared.py\n",
            "spark-2.4.4-bin-hadoop2.7/python/pyspark/ml/param/_shared_params_code_gen.py\n",
            "spark-2.4.4-bin-hadoop2.7/python/pyspark/ml/param/__init__.py\n",
            "spark-2.4.4-bin-hadoop2.7/python/pyspark/ml/linalg/\n",
            "spark-2.4.4-bin-hadoop2.7/python/pyspark/ml/linalg/__init__.py\n",
            "spark-2.4.4-bin-hadoop2.7/python/pyspark/ml/common.py\n",
            "spark-2.4.4-bin-hadoop2.7/python/pyspark/ml/base.py\n",
            "spark-2.4.4-bin-hadoop2.7/python/pyspark/ml/__init__.py\n",
            "spark-2.4.4-bin-hadoop2.7/python/pyspark/join.py\n",
            "spark-2.4.4-bin-hadoop2.7/python/pyspark/heapq3.py\n",
            "spark-2.4.4-bin-hadoop2.7/python/pyspark/find_spark_home.py\n",
            "spark-2.4.4-bin-hadoop2.7/python/pyspark/_globals.py\n",
            "spark-2.4.4-bin-hadoop2.7/python/pylintrc\n",
            "spark-2.4.4-bin-hadoop2.7/python/lib/\n",
            "spark-2.4.4-bin-hadoop2.7/python/lib/pyspark.zip\n",
            "spark-2.4.4-bin-hadoop2.7/python/lib/py4j-0.10.7-src.zip\n",
            "spark-2.4.4-bin-hadoop2.7/python/lib/PY4J_LICENSE.txt\n",
            "spark-2.4.4-bin-hadoop2.7/python/docs/\n",
            "spark-2.4.4-bin-hadoop2.7/python/docs/pyspark.streaming.rst\n",
            "spark-2.4.4-bin-hadoop2.7/python/docs/pyspark.sql.rst\n",
            "spark-2.4.4-bin-hadoop2.7/python/docs/epytext.py\n",
            "spark-2.4.4-bin-hadoop2.7/python/docs/conf.py\n",
            "spark-2.4.4-bin-hadoop2.7/python/docs/Makefile\n",
            "spark-2.4.4-bin-hadoop2.7/python/docs/pyspark.rst\n",
            "spark-2.4.4-bin-hadoop2.7/python/docs/pyspark.mllib.rst\n",
            "spark-2.4.4-bin-hadoop2.7/python/docs/pyspark.ml.rst\n",
            "spark-2.4.4-bin-hadoop2.7/python/docs/make2.bat\n",
            "spark-2.4.4-bin-hadoop2.7/python/docs/make.bat\n",
            "spark-2.4.4-bin-hadoop2.7/python/docs/index.rst\n",
            "spark-2.4.4-bin-hadoop2.7/python/docs/_templates/\n",
            "spark-2.4.4-bin-hadoop2.7/python/docs/_templates/layout.html\n",
            "spark-2.4.4-bin-hadoop2.7/python/docs/_static/\n",
            "spark-2.4.4-bin-hadoop2.7/python/docs/_static/pyspark.js\n",
            "spark-2.4.4-bin-hadoop2.7/python/docs/_static/pyspark.css\n",
            "spark-2.4.4-bin-hadoop2.7/python/.gitignore\n",
            "spark-2.4.4-bin-hadoop2.7/python/.coveragerc\n",
            "spark-2.4.4-bin-hadoop2.7/bin/\n",
            "spark-2.4.4-bin-hadoop2.7/bin/spark-class\n",
            "spark-2.4.4-bin-hadoop2.7/bin/pyspark2.cmd\n",
            "spark-2.4.4-bin-hadoop2.7/bin/pyspark\n",
            "spark-2.4.4-bin-hadoop2.7/bin/load-spark-env.sh\n",
            "spark-2.4.4-bin-hadoop2.7/bin/load-spark-env.cmd\n",
            "spark-2.4.4-bin-hadoop2.7/bin/docker-image-tool.sh\n",
            "spark-2.4.4-bin-hadoop2.7/bin/sparkR2.cmd\n",
            "spark-2.4.4-bin-hadoop2.7/bin/sparkR.cmd\n",
            "spark-2.4.4-bin-hadoop2.7/bin/sparkR\n",
            "spark-2.4.4-bin-hadoop2.7/bin/spark-submit2.cmd\n",
            "spark-2.4.4-bin-hadoop2.7/bin/spark-submit.cmd\n",
            "spark-2.4.4-bin-hadoop2.7/bin/spark-submit\n",
            "spark-2.4.4-bin-hadoop2.7/bin/spark-sql2.cmd\n",
            "spark-2.4.4-bin-hadoop2.7/bin/spark-sql.cmd\n",
            "spark-2.4.4-bin-hadoop2.7/bin/spark-sql\n",
            "spark-2.4.4-bin-hadoop2.7/bin/spark-shell2.cmd\n",
            "spark-2.4.4-bin-hadoop2.7/bin/spark-shell.cmd\n",
            "spark-2.4.4-bin-hadoop2.7/bin/spark-shell\n",
            "spark-2.4.4-bin-hadoop2.7/bin/spark-class2.cmd\n",
            "spark-2.4.4-bin-hadoop2.7/bin/spark-class.cmd\n",
            "spark-2.4.4-bin-hadoop2.7/bin/run-example.cmd\n",
            "spark-2.4.4-bin-hadoop2.7/bin/run-example\n",
            "spark-2.4.4-bin-hadoop2.7/bin/pyspark.cmd\n",
            "spark-2.4.4-bin-hadoop2.7/bin/find-spark-home.cmd\n",
            "spark-2.4.4-bin-hadoop2.7/bin/find-spark-home\n",
            "spark-2.4.4-bin-hadoop2.7/bin/beeline.cmd\n",
            "spark-2.4.4-bin-hadoop2.7/bin/beeline\n",
            "spark-2.4.4-bin-hadoop2.7/README.md\n",
            "spark-2.4.4-bin-hadoop2.7/conf/\n",
            "spark-2.4.4-bin-hadoop2.7/conf/spark-env.sh.template\n",
            "spark-2.4.4-bin-hadoop2.7/conf/spark-defaults.conf.template\n",
            "spark-2.4.4-bin-hadoop2.7/conf/slaves.template\n",
            "spark-2.4.4-bin-hadoop2.7/conf/metrics.properties.template\n",
            "spark-2.4.4-bin-hadoop2.7/conf/log4j.properties.template\n",
            "spark-2.4.4-bin-hadoop2.7/conf/fairscheduler.xml.template\n",
            "spark-2.4.4-bin-hadoop2.7/conf/docker.properties.template\n",
            "spark-2.4.4-bin-hadoop2.7/data/\n",
            "spark-2.4.4-bin-hadoop2.7/data/mllib/\n",
            "spark-2.4.4-bin-hadoop2.7/data/mllib/gmm_data.txt\n",
            "spark-2.4.4-bin-hadoop2.7/data/mllib/als/\n",
            "spark-2.4.4-bin-hadoop2.7/data/mllib/als/test.data\n",
            "spark-2.4.4-bin-hadoop2.7/data/mllib/als/sample_movielens_ratings.txt\n",
            "spark-2.4.4-bin-hadoop2.7/data/mllib/streaming_kmeans_data_test.txt\n",
            "spark-2.4.4-bin-hadoop2.7/data/mllib/sample_svm_data.txt\n",
            "spark-2.4.4-bin-hadoop2.7/data/mllib/sample_multiclass_classification_data.txt\n",
            "spark-2.4.4-bin-hadoop2.7/data/mllib/sample_movielens_data.txt\n",
            "spark-2.4.4-bin-hadoop2.7/data/mllib/sample_linear_regression_data.txt\n",
            "spark-2.4.4-bin-hadoop2.7/data/mllib/sample_libsvm_data.txt\n",
            "spark-2.4.4-bin-hadoop2.7/data/mllib/sample_lda_libsvm_data.txt\n",
            "spark-2.4.4-bin-hadoop2.7/data/mllib/sample_lda_data.txt\n",
            "spark-2.4.4-bin-hadoop2.7/data/mllib/sample_kmeans_data.txt\n",
            "spark-2.4.4-bin-hadoop2.7/data/mllib/sample_isotonic_regression_libsvm_data.txt\n",
            "spark-2.4.4-bin-hadoop2.7/data/mllib/sample_fpgrowth.txt\n",
            "spark-2.4.4-bin-hadoop2.7/data/mllib/sample_binary_classification_data.txt\n",
            "spark-2.4.4-bin-hadoop2.7/data/mllib/ridge-data/\n",
            "spark-2.4.4-bin-hadoop2.7/data/mllib/ridge-data/lpsa.data\n",
            "spark-2.4.4-bin-hadoop2.7/data/mllib/pic_data.txt\n",
            "spark-2.4.4-bin-hadoop2.7/data/mllib/pagerank_data.txt\n",
            "spark-2.4.4-bin-hadoop2.7/data/mllib/kmeans_data.txt\n",
            "spark-2.4.4-bin-hadoop2.7/data/mllib/iris_libsvm.txt\n",
            "spark-2.4.4-bin-hadoop2.7/data/mllib/images/\n",
            "spark-2.4.4-bin-hadoop2.7/data/mllib/images/partitioned/\n",
            "spark-2.4.4-bin-hadoop2.7/data/mllib/images/partitioned/cls=multichannel/\n",
            "spark-2.4.4-bin-hadoop2.7/data/mllib/images/partitioned/cls=multichannel/date=2018-02/\n",
            "spark-2.4.4-bin-hadoop2.7/data/mllib/images/partitioned/cls=multichannel/date=2018-02/grayscale.jpg\n",
            "spark-2.4.4-bin-hadoop2.7/data/mllib/images/partitioned/cls=multichannel/date=2018-02/chr30.4.184.jpg\n",
            "spark-2.4.4-bin-hadoop2.7/data/mllib/images/partitioned/cls=multichannel/date=2018-01/\n",
            "spark-2.4.4-bin-hadoop2.7/data/mllib/images/partitioned/cls=multichannel/date=2018-01/BGRA_alpha_60.png\n",
            "spark-2.4.4-bin-hadoop2.7/data/mllib/images/partitioned/cls=multichannel/date=2018-01/BGRA.png\n",
            "spark-2.4.4-bin-hadoop2.7/data/mllib/images/partitioned/cls=kittens/\n",
            "spark-2.4.4-bin-hadoop2.7/data/mllib/images/partitioned/cls=kittens/date=2018-02/\n",
            "spark-2.4.4-bin-hadoop2.7/data/mllib/images/partitioned/cls=kittens/date=2018-02/DP802813.jpg\n",
            "spark-2.4.4-bin-hadoop2.7/data/mllib/images/partitioned/cls=kittens/date=2018-02/DP153539.jpg\n",
            "spark-2.4.4-bin-hadoop2.7/data/mllib/images/partitioned/cls=kittens/date=2018-02/54893.jpg\n",
            "spark-2.4.4-bin-hadoop2.7/data/mllib/images/partitioned/cls=kittens/date=2018-01/\n",
            "spark-2.4.4-bin-hadoop2.7/data/mllib/images/partitioned/cls=kittens/date=2018-01/not-image.txt\n",
            "spark-2.4.4-bin-hadoop2.7/data/mllib/images/partitioned/cls=kittens/date=2018-01/29.5.a_b_EGDP022204.jpg\n",
            "spark-2.4.4-bin-hadoop2.7/data/mllib/images/origin/\n",
            "spark-2.4.4-bin-hadoop2.7/data/mllib/images/origin/multi-channel/\n",
            "spark-2.4.4-bin-hadoop2.7/data/mllib/images/origin/multi-channel/grayscale.jpg\n",
            "spark-2.4.4-bin-hadoop2.7/data/mllib/images/origin/multi-channel/chr30.4.184.jpg\n",
            "spark-2.4.4-bin-hadoop2.7/data/mllib/images/origin/multi-channel/BGRA_alpha_60.png\n",
            "spark-2.4.4-bin-hadoop2.7/data/mllib/images/origin/multi-channel/BGRA.png\n",
            "spark-2.4.4-bin-hadoop2.7/data/mllib/images/origin/license.txt\n",
            "spark-2.4.4-bin-hadoop2.7/data/mllib/images/origin/kittens/\n",
            "spark-2.4.4-bin-hadoop2.7/data/mllib/images/origin/kittens/not-image.txt\n",
            "spark-2.4.4-bin-hadoop2.7/data/mllib/images/origin/kittens/DP802813.jpg\n",
            "spark-2.4.4-bin-hadoop2.7/data/mllib/images/origin/kittens/DP153539.jpg\n",
            "spark-2.4.4-bin-hadoop2.7/data/mllib/images/origin/kittens/54893.jpg\n",
            "spark-2.4.4-bin-hadoop2.7/data/mllib/images/origin/kittens/29.5.a_b_EGDP022204.jpg\n",
            "spark-2.4.4-bin-hadoop2.7/data/mllib/images/license.txt\n",
            "spark-2.4.4-bin-hadoop2.7/data/graphx/\n",
            "spark-2.4.4-bin-hadoop2.7/data/graphx/users.txt\n",
            "spark-2.4.4-bin-hadoop2.7/data/graphx/followers.txt\n",
            "spark-2.4.4-bin-hadoop2.7/data/streaming/\n",
            "spark-2.4.4-bin-hadoop2.7/data/streaming/AFINN-111.txt\n",
            "spark-2.4.4-bin-hadoop2.7/NOTICE\n",
            "spark-2.4.4-bin-hadoop2.7/licenses/\n",
            "spark-2.4.4-bin-hadoop2.7/licenses/LICENSE-jtransforms.html\n",
            "spark-2.4.4-bin-hadoop2.7/licenses/LICENSE-json-formatter.txt\n",
            "spark-2.4.4-bin-hadoop2.7/licenses/LICENSE-jquery.txt\n",
            "spark-2.4.4-bin-hadoop2.7/licenses/LICENSE-join.txt\n",
            "spark-2.4.4-bin-hadoop2.7/licenses/LICENSE-jodd.txt\n",
            "spark-2.4.4-bin-hadoop2.7/licenses/LICENSE-jline.txt\n",
            "spark-2.4.4-bin-hadoop2.7/licenses/LICENSE-javolution.txt\n",
            "spark-2.4.4-bin-hadoop2.7/licenses/LICENSE-javassist.html\n",
            "spark-2.4.4-bin-hadoop2.7/licenses/LICENSE-janino.txt\n",
            "spark-2.4.4-bin-hadoop2.7/licenses/LICENSE-heapq.txt\n",
            "spark-2.4.4-bin-hadoop2.7/licenses/LICENSE-graphlib-dot.txt\n",
            "spark-2.4.4-bin-hadoop2.7/licenses/LICENSE-f2j.txt\n",
            "spark-2.4.4-bin-hadoop2.7/licenses/LICENSE-datatables.txt\n",
            "spark-2.4.4-bin-hadoop2.7/licenses/LICENSE-dagre-d3.txt\n",
            "spark-2.4.4-bin-hadoop2.7/licenses/LICENSE-d3.min.js.txt\n",
            "spark-2.4.4-bin-hadoop2.7/licenses/LICENSE-cloudpickle.txt\n",
            "spark-2.4.4-bin-hadoop2.7/licenses/LICENSE-bootstrap.txt\n",
            "spark-2.4.4-bin-hadoop2.7/licenses/LICENSE-automaton.txt\n",
            "spark-2.4.4-bin-hadoop2.7/licenses/LICENSE-arpack.txt\n",
            "spark-2.4.4-bin-hadoop2.7/licenses/LICENSE-antlr.txt\n",
            "spark-2.4.4-bin-hadoop2.7/licenses/LICENSE-CC0.txt\n",
            "spark-2.4.4-bin-hadoop2.7/licenses/LICENSE-AnchorJS.txt\n",
            "spark-2.4.4-bin-hadoop2.7/licenses/LICENSE-zstd.txt\n",
            "spark-2.4.4-bin-hadoop2.7/licenses/LICENSE-zstd-jni.txt\n",
            "spark-2.4.4-bin-hadoop2.7/licenses/LICENSE-xmlenc.txt\n",
            "spark-2.4.4-bin-hadoop2.7/licenses/LICENSE-vis.txt\n",
            "spark-2.4.4-bin-hadoop2.7/licenses/LICENSE-spire.txt\n",
            "spark-2.4.4-bin-hadoop2.7/licenses/LICENSE-sorttable.js.txt\n",
            "spark-2.4.4-bin-hadoop2.7/licenses/LICENSE-slf4j.txt\n",
            "spark-2.4.4-bin-hadoop2.7/licenses/LICENSE-scopt.txt\n",
            "spark-2.4.4-bin-hadoop2.7/licenses/LICENSE-scala.txt\n",
            "spark-2.4.4-bin-hadoop2.7/licenses/LICENSE-sbt-launch-lib.txt\n",
            "spark-2.4.4-bin-hadoop2.7/licenses/LICENSE-respond.txt\n",
            "spark-2.4.4-bin-hadoop2.7/licenses/LICENSE-reflectasm.txt\n",
            "spark-2.4.4-bin-hadoop2.7/licenses/LICENSE-pyrolite.txt\n",
            "spark-2.4.4-bin-hadoop2.7/licenses/LICENSE-py4j.txt\n",
            "spark-2.4.4-bin-hadoop2.7/licenses/LICENSE-protobuf.txt\n",
            "spark-2.4.4-bin-hadoop2.7/licenses/LICENSE-pmml-model.txt\n",
            "spark-2.4.4-bin-hadoop2.7/licenses/LICENSE-paranamer.txt\n",
            "spark-2.4.4-bin-hadoop2.7/licenses/LICENSE-netlib.txt\n",
            "spark-2.4.4-bin-hadoop2.7/licenses/LICENSE-mustache.txt\n",
            "spark-2.4.4-bin-hadoop2.7/licenses/LICENSE-modernizr.txt\n",
            "spark-2.4.4-bin-hadoop2.7/licenses/LICENSE-minlog.txt\n",
            "spark-2.4.4-bin-hadoop2.7/licenses/LICENSE-matchMedia-polyfill.txt\n",
            "spark-2.4.4-bin-hadoop2.7/licenses/LICENSE-machinist.txt\n",
            "spark-2.4.4-bin-hadoop2.7/licenses/LICENSE-leveldbjni.txt\n",
            "spark-2.4.4-bin-hadoop2.7/licenses/LICENSE-kryo.txt\n",
            "spark-2.4.4-bin-hadoop2.7/LICENSE\n",
            "spark-2.4.4-bin-hadoop2.7/examples/\n",
            "spark-2.4.4-bin-hadoop2.7/examples/src/\n",
            "spark-2.4.4-bin-hadoop2.7/examples/src/main/\n",
            "spark-2.4.4-bin-hadoop2.7/examples/src/main/scala/\n",
            "spark-2.4.4-bin-hadoop2.7/examples/src/main/scala/org/\n",
            "spark-2.4.4-bin-hadoop2.7/examples/src/main/scala/org/apache/\n",
            "spark-2.4.4-bin-hadoop2.7/examples/src/main/scala/org/apache/spark/\n",
            "spark-2.4.4-bin-hadoop2.7/examples/src/main/scala/org/apache/spark/examples/\n",
            "spark-2.4.4-bin-hadoop2.7/examples/src/main/scala/org/apache/spark/examples/mllib/\n",
            "spark-2.4.4-bin-hadoop2.7/examples/src/main/scala/org/apache/spark/examples/mllib/ElementwiseProductExample.scala\n",
            "spark-2.4.4-bin-hadoop2.7/examples/src/main/scala/org/apache/spark/examples/mllib/DenseKMeans.scala\n",
            "spark-2.4.4-bin-hadoop2.7/examples/src/main/scala/org/apache/spark/examples/mllib/DecisionTreeRegressionExample.scala\n",
            "spark-2.4.4-bin-hadoop2.7/examples/src/main/scala/org/apache/spark/examples/mllib/DecisionTreeClassificationExample.scala\n",
            "spark-2.4.4-bin-hadoop2.7/examples/src/main/scala/org/apache/spark/examples/mllib/CosineSimilarity.scala\n",
            "spark-2.4.4-bin-hadoop2.7/examples/src/main/scala/org/apache/spark/examples/mllib/CorrelationsExample.scala\n",
            "spark-2.4.4-bin-hadoop2.7/examples/src/main/scala/org/apache/spark/examples/mllib/Correlations.scala\n",
            "spark-2.4.4-bin-hadoop2.7/examples/src/main/scala/org/apache/spark/examples/mllib/ChiSqSelectorExample.scala\n",
            "spark-2.4.4-bin-hadoop2.7/examples/src/main/scala/org/apache/spark/examples/mllib/BisectingKMeansExample.scala\n",
            "spark-2.4.4-bin-hadoop2.7/examples/src/main/scala/org/apache/spark/examples/mllib/BinaryClassificationMetricsExample.scala\n",
            "spark-2.4.4-bin-hadoop2.7/examples/src/main/scala/org/apache/spark/examples/mllib/AssociationRulesExample.scala\n",
            "spark-2.4.4-bin-hadoop2.7/examples/src/main/scala/org/apache/spark/examples/mllib/AbstractParams.scala\n",
            "spark-2.4.4-bin-hadoop2.7/examples/src/main/scala/org/apache/spark/examples/mllib/Word2VecExample.scala\n",
            "spark-2.4.4-bin-hadoop2.7/examples/src/main/scala/org/apache/spark/examples/mllib/TallSkinnySVD.scala\n",
            "spark-2.4.4-bin-hadoop2.7/examples/src/main/scala/org/apache/spark/examples/mllib/TallSkinnyPCA.scala\n",
            "spark-2.4.4-bin-hadoop2.7/examples/src/main/scala/org/apache/spark/examples/mllib/TFIDFExample.scala\n",
            "spark-2.4.4-bin-hadoop2.7/examples/src/main/scala/org/apache/spark/examples/mllib/SummaryStatisticsExample.scala\n",
            "spark-2.4.4-bin-hadoop2.7/examples/src/main/scala/org/apache/spark/examples/mllib/StreamingTestExample.scala\n",
            "spark-2.4.4-bin-hadoop2.7/examples/src/main/scala/org/apache/spark/examples/mllib/StreamingLogisticRegression.scala\n",
            "spark-2.4.4-bin-hadoop2.7/examples/src/main/scala/org/apache/spark/examples/mllib/StreamingLinearRegressionExample.scala\n",
            "spark-2.4.4-bin-hadoop2.7/examples/src/main/scala/org/apache/spark/examples/mllib/StreamingKMeansExample.scala\n",
            "spark-2.4.4-bin-hadoop2.7/examples/src/main/scala/org/apache/spark/examples/mllib/StratifiedSamplingExample.scala\n",
            "spark-2.4.4-bin-hadoop2.7/examples/src/main/scala/org/apache/spark/examples/mllib/StandardScalerExample.scala\n",
            "spark-2.4.4-bin-hadoop2.7/examples/src/main/scala/org/apache/spark/examples/mllib/SparseNaiveBayes.scala\n",
            "spark-2.4.4-bin-hadoop2.7/examples/src/main/scala/org/apache/spark/examples/mllib/SimpleFPGrowth.scala\n",
            "spark-2.4.4-bin-hadoop2.7/examples/src/main/scala/org/apache/spark/examples/mllib/SampledRDDs.scala\n",
            "spark-2.4.4-bin-hadoop2.7/examples/src/main/scala/org/apache/spark/examples/mllib/SVMWithSGDExample.scala\n",
            "spark-2.4.4-bin-hadoop2.7/examples/src/main/scala/org/apache/spark/examples/mllib/SVDExample.scala\n",
            "spark-2.4.4-bin-hadoop2.7/examples/src/main/scala/org/apache/spark/examples/mllib/RegressionMetricsExample.scala\n",
            "spark-2.4.4-bin-hadoop2.7/examples/src/main/scala/org/apache/spark/examples/mllib/RecommendationExample.scala\n",
            "spark-2.4.4-bin-hadoop2.7/examples/src/main/scala/org/apache/spark/examples/mllib/RandomRDDGeneration.scala\n",
            "spark-2.4.4-bin-hadoop2.7/examples/src/main/scala/org/apache/spark/examples/mllib/RandomForestRegressionExample.scala\n",
            "spark-2.4.4-bin-hadoop2.7/examples/src/main/scala/org/apache/spark/examples/mllib/RandomForestClassificationExample.scala\n",
            "spark-2.4.4-bin-hadoop2.7/examples/src/main/scala/org/apache/spark/examples/mllib/PrefixSpanExample.scala\n",
            "spark-2.4.4-bin-hadoop2.7/examples/src/main/scala/org/apache/spark/examples/mllib/PowerIterationClusteringExample.scala\n",
            "spark-2.4.4-bin-hadoop2.7/examples/src/main/scala/org/apache/spark/examples/mllib/PMMLModelExportExample.scala\n",
            "spark-2.4.4-bin-hadoop2.7/examples/src/main/scala/org/apache/spark/examples/mllib/PCAOnSourceVectorExample.scala\n",
            "spark-2.4.4-bin-hadoop2.7/examples/src/main/scala/org/apache/spark/examples/mllib/PCAOnRowMatrixExample.scala\n",
            "spark-2.4.4-bin-hadoop2.7/examples/src/main/scala/org/apache/spark/examples/mllib/PCAExample.scala\n",
            "spark-2.4.4-bin-hadoop2.7/examples/src/main/scala/org/apache/spark/examples/mllib/NormalizerExample.scala\n",
            "spark-2.4.4-bin-hadoop2.7/examples/src/main/scala/org/apache/spark/examples/mllib/NaiveBayesExample.scala\n",
            "spark-2.4.4-bin-hadoop2.7/examples/src/main/scala/org/apache/spark/examples/mllib/MultivariateSummarizer.scala\n",
            "spark-2.4.4-bin-hadoop2.7/examples/src/main/scala/org/apache/spark/examples/mllib/MulticlassMetricsExample.scala\n",
            "spark-2.4.4-bin-hadoop2.7/examples/src/main/scala/org/apache/spark/examples/mllib/MultiLabelMetricsExample.scala\n",
            "spark-2.4.4-bin-hadoop2.7/examples/src/main/scala/org/apache/spark/examples/mllib/LogisticRegressionWithLBFGSExample.scala\n",
            "spark-2.4.4-bin-hadoop2.7/examples/src/main/scala/org/apache/spark/examples/mllib/LinearRegressionWithSGDExample.scala\n",
            "spark-2.4.4-bin-hadoop2.7/examples/src/main/scala/org/apache/spark/examples/mllib/LatentDirichletAllocationExample.scala\n",
            "spark-2.4.4-bin-hadoop2.7/examples/src/main/scala/org/apache/spark/examples/mllib/LDAExample.scala\n",
            "spark-2.4.4-bin-hadoop2.7/examples/src/main/scala/org/apache/spark/examples/mllib/LBFGSExample.scala\n",
            "spark-2.4.4-bin-hadoop2.7/examples/src/main/scala/org/apache/spark/examples/mllib/KernelDensityEstimationExample.scala\n",
            "spark-2.4.4-bin-hadoop2.7/examples/src/main/scala/org/apache/spark/examples/mllib/KMeansExample.scala\n",
            "spark-2.4.4-bin-hadoop2.7/examples/src/main/scala/org/apache/spark/examples/mllib/IsotonicRegressionExample.scala\n",
            "spark-2.4.4-bin-hadoop2.7/examples/src/main/scala/org/apache/spark/examples/mllib/HypothesisTestingKolmogorovSmirnovTestExample.scala\n",
            "spark-2.4.4-bin-hadoop2.7/examples/src/main/scala/org/apache/spark/examples/mllib/HypothesisTestingExample.scala\n",
            "spark-2.4.4-bin-hadoop2.7/examples/src/main/scala/org/apache/spark/examples/mllib/GradientBoostingRegressionExample.scala\n",
            "spark-2.4.4-bin-hadoop2.7/examples/src/main/scala/org/apache/spark/examples/mllib/GradientBoostingClassificationExample.scala\n",
            "spark-2.4.4-bin-hadoop2.7/examples/src/main/scala/org/apache/spark/examples/mllib/GaussianMixtureExample.scala\n",
            "spark-2.4.4-bin-hadoop2.7/examples/src/main/scala/org/apache/spark/examples/mllib/FPGrowthExample.scala\n",
            "spark-2.4.4-bin-hadoop2.7/examples/src/main/scala/org/apache/spark/examples/mllib/RankingMetricsExample.scala\n",
            "spark-2.4.4-bin-hadoop2.7/examples/src/main/scala/org/apache/spark/examples/mllib/MovieLensALS.scala\n",
            "spark-2.4.4-bin-hadoop2.7/examples/src/main/scala/org/apache/spark/examples/mllib/LinearRegression.scala\n",
            "spark-2.4.4-bin-hadoop2.7/examples/src/main/scala/org/apache/spark/examples/mllib/GradientBoostedTreesRunner.scala\n",
            "spark-2.4.4-bin-hadoop2.7/examples/src/main/scala/org/apache/spark/examples/mllib/DecisionTreeRunner.scala\n",
            "spark-2.4.4-bin-hadoop2.7/examples/src/main/scala/org/apache/spark/examples/mllib/BinaryClassification.scala\n",
            "spark-2.4.4-bin-hadoop2.7/examples/src/main/scala/org/apache/spark/examples/ml/\n",
            "spark-2.4.4-bin-hadoop2.7/examples/src/main/scala/org/apache/spark/examples/ml/Word2VecExample.scala\n",
            "spark-2.4.4-bin-hadoop2.7/examples/src/main/scala/org/apache/spark/examples/ml/VectorSlicerExample.scala\n",
            "spark-2.4.4-bin-hadoop2.7/examples/src/main/scala/org/apache/spark/examples/ml/VectorSizeHintExample.scala\n",
            "spark-2.4.4-bin-hadoop2.7/examples/src/main/scala/org/apache/spark/examples/ml/VectorIndexerExample.scala\n",
            "spark-2.4.4-bin-hadoop2.7/examples/src/main/scala/org/apache/spark/examples/ml/VectorAssemblerExample.scala\n",
            "spark-2.4.4-bin-hadoop2.7/examples/src/main/scala/org/apache/spark/examples/ml/UnaryTransformerExample.scala\n",
            "spark-2.4.4-bin-hadoop2.7/examples/src/main/scala/org/apache/spark/examples/ml/TokenizerExample.scala\n",
            "spark-2.4.4-bin-hadoop2.7/examples/src/main/scala/org/apache/spark/examples/ml/TfIdfExample.scala\n",
            "spark-2.4.4-bin-hadoop2.7/examples/src/main/scala/org/apache/spark/examples/ml/SummarizerExample.scala\n",
            "spark-2.4.4-bin-hadoop2.7/examples/src/main/scala/org/apache/spark/examples/ml/StringIndexerExample.scala\n",
            "spark-2.4.4-bin-hadoop2.7/examples/src/main/scala/org/apache/spark/examples/ml/StopWordsRemoverExample.scala\n",
            "spark-2.4.4-bin-hadoop2.7/examples/src/main/scala/org/apache/spark/examples/ml/StandardScalerExample.scala\n",
            "spark-2.4.4-bin-hadoop2.7/examples/src/main/scala/org/apache/spark/examples/ml/SQLTransformerExample.scala\n",
            "spark-2.4.4-bin-hadoop2.7/examples/src/main/scala/org/apache/spark/examples/ml/RandomForestRegressorExample.scala\n",
            "spark-2.4.4-bin-hadoop2.7/examples/src/main/scala/org/apache/spark/examples/ml/RandomForestExample.scala\n",
            "spark-2.4.4-bin-hadoop2.7/examples/src/main/scala/org/apache/spark/examples/ml/RFormulaExample.scala\n",
            "spark-2.4.4-bin-hadoop2.7/examples/src/main/scala/org/apache/spark/examples/ml/QuantileDiscretizerExample.scala\n",
            "spark-2.4.4-bin-hadoop2.7/examples/src/main/scala/org/apache/spark/examples/ml/PowerIterationClusteringExample.scala\n",
            "spark-2.4.4-bin-hadoop2.7/examples/src/main/scala/org/apache/spark/examples/ml/PolynomialExpansionExample.scala\n",
            "spark-2.4.4-bin-hadoop2.7/examples/src/main/scala/org/apache/spark/examples/ml/PipelineExample.scala\n",
            "spark-2.4.4-bin-hadoop2.7/examples/src/main/scala/org/apache/spark/examples/ml/PCAExample.scala\n",
            "spark-2.4.4-bin-hadoop2.7/examples/src/main/scala/org/apache/spark/examples/ml/OneVsRestExample.scala\n",
            "spark-2.4.4-bin-hadoop2.7/examples/src/main/scala/org/apache/spark/examples/ml/NormalizerExample.scala\n",
            "spark-2.4.4-bin-hadoop2.7/examples/src/main/scala/org/apache/spark/examples/ml/NaiveBayesExample.scala\n",
            "spark-2.4.4-bin-hadoop2.7/examples/src/main/scala/org/apache/spark/examples/ml/NGramExample.scala\n",
            "spark-2.4.4-bin-hadoop2.7/examples/src/main/scala/org/apache/spark/examples/ml/MultilayerPerceptronClassifierExample.scala\n",
            "spark-2.4.4-bin-hadoop2.7/examples/src/main/scala/org/apache/spark/examples/ml/MulticlassLogisticRegressionWithElasticNetExample.scala\n",
            "spark-2.4.4-bin-hadoop2.7/examples/src/main/scala/org/apache/spark/examples/ml/ModelSelectionViaTrainValidationSplitExample.scala\n",
            "spark-2.4.4-bin-hadoop2.7/examples/src/main/scala/org/apache/spark/examples/ml/ModelSelectionViaCrossValidationExample.scala\n",
            "spark-2.4.4-bin-hadoop2.7/examples/src/main/scala/org/apache/spark/examples/ml/MinMaxScalerExample.scala\n",
            "spark-2.4.4-bin-hadoop2.7/examples/src/main/scala/org/apache/spark/examples/ml/MinHashLSHExample.scala\n",
            "spark-2.4.4-bin-hadoop2.7/examples/src/main/scala/org/apache/spark/examples/ml/MaxAbsScalerExample.scala\n",
            "spark-2.4.4-bin-hadoop2.7/examples/src/main/scala/org/apache/spark/examples/ml/LogisticRegressionWithElasticNetExample.scala\n",
            "spark-2.4.4-bin-hadoop2.7/examples/src/main/scala/org/apache/spark/examples/ml/LogisticRegressionSummaryExample.scala\n",
            "spark-2.4.4-bin-hadoop2.7/examples/src/main/scala/org/apache/spark/examples/ml/LogisticRegressionExample.scala\n",
            "spark-2.4.4-bin-hadoop2.7/examples/src/main/scala/org/apache/spark/examples/ml/LinearSVCExample.scala\n",
            "spark-2.4.4-bin-hadoop2.7/examples/src/main/scala/org/apache/spark/examples/ml/LinearRegressionWithElasticNetExample.scala\n",
            "spark-2.4.4-bin-hadoop2.7/examples/src/main/scala/org/apache/spark/examples/ml/LinearRegressionExample.scala\n",
            "spark-2.4.4-bin-hadoop2.7/examples/src/main/scala/org/apache/spark/examples/ml/LDAExample.scala\n",
            "spark-2.4.4-bin-hadoop2.7/examples/src/main/scala/org/apache/spark/examples/ml/KMeansExample.scala\n",
            "spark-2.4.4-bin-hadoop2.7/examples/src/main/scala/org/apache/spark/examples/ml/IsotonicRegressionExample.scala\n",
            "spark-2.4.4-bin-hadoop2.7/examples/src/main/scala/org/apache/spark/examples/ml/InteractionExample.scala\n",
            "spark-2.4.4-bin-hadoop2.7/examples/src/main/scala/org/apache/spark/examples/ml/IndexToStringExample.scala\n",
            "spark-2.4.4-bin-hadoop2.7/examples/src/main/scala/org/apache/spark/examples/ml/ImputerExample.scala\n",
            "spark-2.4.4-bin-hadoop2.7/examples/src/main/scala/org/apache/spark/examples/ml/GradientBoostedTreeRegressorExample.scala\n",
            "spark-2.4.4-bin-hadoop2.7/examples/src/main/scala/org/apache/spark/examples/ml/GeneralizedLinearRegressionExample.scala\n",
            "spark-2.4.4-bin-hadoop2.7/examples/src/main/scala/org/apache/spark/examples/ml/GaussianMixtureExample.scala\n",
            "spark-2.4.4-bin-hadoop2.7/examples/src/main/scala/org/apache/spark/examples/ml/GBTExample.scala\n",
            "spark-2.4.4-bin-hadoop2.7/examples/src/main/scala/org/apache/spark/examples/ml/FeatureHasherExample.scala\n",
            "spark-2.4.4-bin-hadoop2.7/examples/src/main/scala/org/apache/spark/examples/ml/EstimatorTransformerParamExample.scala\n",
            "spark-2.4.4-bin-hadoop2.7/examples/src/main/scala/org/apache/spark/examples/ml/ElementwiseProductExample.scala\n",
            "spark-2.4.4-bin-hadoop2.7/examples/src/main/scala/org/apache/spark/examples/ml/DeveloperApiExample.scala\n",
            "spark-2.4.4-bin-hadoop2.7/examples/src/main/scala/org/apache/spark/examples/ml/DecisionTreeRegressionExample.scala\n",
            "spark-2.4.4-bin-hadoop2.7/examples/src/main/scala/org/apache/spark/examples/ml/DecisionTreeExample.scala\n",
            "spark-2.4.4-bin-hadoop2.7/examples/src/main/scala/org/apache/spark/examples/ml/DataFrameExample.scala\n",
            "spark-2.4.4-bin-hadoop2.7/examples/src/main/scala/org/apache/spark/examples/ml/DCTExample.scala\n",
            "spark-2.4.4-bin-hadoop2.7/examples/src/main/scala/org/apache/spark/examples/ml/CountVectorizerExample.scala\n",
            "spark-2.4.4-bin-hadoop2.7/examples/src/main/scala/org/apache/spark/examples/ml/CorrelationExample.scala\n",
            "spark-2.4.4-bin-hadoop2.7/examples/src/main/scala/org/apache/spark/examples/ml/ChiSquareTestExample.scala\n",
            "spark-2.4.4-bin-hadoop2.7/examples/src/main/scala/org/apache/spark/examples/ml/ChiSqSelectorExample.scala\n",
            "spark-2.4.4-bin-hadoop2.7/examples/src/main/scala/org/apache/spark/examples/ml/BucketizerExample.scala\n",
            "spark-2.4.4-bin-hadoop2.7/examples/src/main/scala/org/apache/spark/examples/ml/BucketedRandomProjectionLSHExample.scala\n",
            "spark-2.4.4-bin-hadoop2.7/examples/src/main/scala/org/apache/spark/examples/ml/BinarizerExample.scala\n",
            "spark-2.4.4-bin-hadoop2.7/examples/src/main/scala/org/apache/spark/examples/ml/ALSExample.scala\n",
            "spark-2.4.4-bin-hadoop2.7/examples/src/main/scala/org/apache/spark/examples/ml/AFTSurvivalRegressionExample.scala\n",
            "spark-2.4.4-bin-hadoop2.7/examples/src/main/scala/org/apache/spark/examples/ml/RandomForestClassifierExample.scala\n",
            "spark-2.4.4-bin-hadoop2.7/examples/src/main/scala/org/apache/spark/examples/ml/PrefixSpanExample.scala\n",
            "spark-2.4.4-bin-hadoop2.7/examples/src/main/scala/org/apache/spark/examples/ml/OneHotEncoderEstimatorExample.scala\n",
            "spark-2.4.4-bin-hadoop2.7/examples/src/main/scala/org/apache/spark/examples/ml/GradientBoostedTreeClassifierExample.scala\n",
            "spark-2.4.4-bin-hadoop2.7/examples/src/main/scala/org/apache/spark/examples/ml/FPGrowthExample.scala\n",
            "spark-2.4.4-bin-hadoop2.7/examples/src/main/scala/org/apache/spark/examples/ml/DecisionTreeClassificationExample.scala\n",
            "spark-2.4.4-bin-hadoop2.7/examples/src/main/scala/org/apache/spark/examples/ml/BisectingKMeansExample.scala\n",
            "spark-2.4.4-bin-hadoop2.7/examples/src/main/scala/org/apache/spark/examples/graphx/\n",
            "spark-2.4.4-bin-hadoop2.7/examples/src/main/scala/org/apache/spark/examples/graphx/TriangleCountingExample.scala\n",
            "spark-2.4.4-bin-hadoop2.7/examples/src/main/scala/org/apache/spark/examples/graphx/SynthBenchmark.scala\n",
            "spark-2.4.4-bin-hadoop2.7/examples/src/main/scala/org/apache/spark/examples/graphx/SSSPExample.scala\n",
            "spark-2.4.4-bin-hadoop2.7/examples/src/main/scala/org/apache/spark/examples/graphx/PageRankExample.scala\n",
            "spark-2.4.4-bin-hadoop2.7/examples/src/main/scala/org/apache/spark/examples/graphx/LiveJournalPageRank.scala\n",
            "spark-2.4.4-bin-hadoop2.7/examples/src/main/scala/org/apache/spark/examples/graphx/ConnectedComponentsExample.scala\n",
            "spark-2.4.4-bin-hadoop2.7/examples/src/main/scala/org/apache/spark/examples/graphx/ComprehensiveExample.scala\n",
            "spark-2.4.4-bin-hadoop2.7/examples/src/main/scala/org/apache/spark/examples/graphx/Analytics.scala\n",
            "spark-2.4.4-bin-hadoop2.7/examples/src/main/scala/org/apache/spark/examples/graphx/AggregateMessagesExample.scala\n",
            "spark-2.4.4-bin-hadoop2.7/examples/src/main/scala/org/apache/spark/examples/SparkTC.scala\n",
            "spark-2.4.4-bin-hadoop2.7/examples/src/main/scala/org/apache/spark/examples/SparkRemoteFileTest.scala\n",
            "spark-2.4.4-bin-hadoop2.7/examples/src/main/scala/org/apache/spark/examples/SparkPi.scala\n",
            "spark-2.4.4-bin-hadoop2.7/examples/src/main/scala/org/apache/spark/examples/SparkPageRank.scala\n",
            "spark-2.4.4-bin-hadoop2.7/examples/src/main/scala/org/apache/spark/examples/SparkLR.scala\n",
            "spark-2.4.4-bin-hadoop2.7/examples/src/main/scala/org/apache/spark/examples/SparkKMeans.scala\n",
            "spark-2.4.4-bin-hadoop2.7/examples/src/main/scala/org/apache/spark/examples/SparkHdfsLR.scala\n",
            "spark-2.4.4-bin-hadoop2.7/examples/src/main/scala/org/apache/spark/examples/SparkALS.scala\n",
            "spark-2.4.4-bin-hadoop2.7/examples/src/main/scala/org/apache/spark/examples/SkewedGroupByTest.scala\n",
            "spark-2.4.4-bin-hadoop2.7/examples/src/main/scala/org/apache/spark/examples/SimpleSkewedGroupByTest.scala\n",
            "spark-2.4.4-bin-hadoop2.7/examples/src/main/scala/org/apache/spark/examples/MultiBroadcastTest.scala\n",
            "spark-2.4.4-bin-hadoop2.7/examples/src/main/scala/org/apache/spark/examples/LocalPi.scala\n",
            "spark-2.4.4-bin-hadoop2.7/examples/src/main/scala/org/apache/spark/examples/LocalLR.scala\n",
            "spark-2.4.4-bin-hadoop2.7/examples/src/main/scala/org/apache/spark/examples/LocalKMeans.scala\n",
            "spark-2.4.4-bin-hadoop2.7/examples/src/main/scala/org/apache/spark/examples/LocalFileLR.scala\n",
            "spark-2.4.4-bin-hadoop2.7/examples/src/main/scala/org/apache/spark/examples/LocalALS.scala\n",
            "spark-2.4.4-bin-hadoop2.7/examples/src/main/scala/org/apache/spark/examples/GroupByTest.scala\n",
            "spark-2.4.4-bin-hadoop2.7/examples/src/main/scala/org/apache/spark/examples/ExceptionHandlingTest.scala\n",
            "spark-2.4.4-bin-hadoop2.7/examples/src/main/scala/org/apache/spark/examples/DriverSubmissionTest.scala\n",
            "spark-2.4.4-bin-hadoop2.7/examples/src/main/scala/org/apache/spark/examples/BroadcastTest.scala\n",
            "spark-2.4.4-bin-hadoop2.7/examples/src/main/scala/org/apache/spark/examples/streaming/\n",
            "spark-2.4.4-bin-hadoop2.7/examples/src/main/scala/org/apache/spark/examples/streaming/clickstream/\n",
            "spark-2.4.4-bin-hadoop2.7/examples/src/main/scala/org/apache/spark/examples/streaming/clickstream/PageViewStream.scala\n",
            "spark-2.4.4-bin-hadoop2.7/examples/src/main/scala/org/apache/spark/examples/streaming/clickstream/PageViewGenerator.scala\n",
            "spark-2.4.4-bin-hadoop2.7/examples/src/main/scala/org/apache/spark/examples/streaming/StreamingExamples.scala\n",
            "spark-2.4.4-bin-hadoop2.7/examples/src/main/scala/org/apache/spark/examples/streaming/StatefulNetworkWordCount.scala\n",
            "spark-2.4.4-bin-hadoop2.7/examples/src/main/scala/org/apache/spark/examples/streaming/SqlNetworkWordCount.scala\n",
            "spark-2.4.4-bin-hadoop2.7/examples/src/main/scala/org/apache/spark/examples/streaming/RecoverableNetworkWordCount.scala\n",
            "spark-2.4.4-bin-hadoop2.7/examples/src/main/scala/org/apache/spark/examples/streaming/RawNetworkGrep.scala\n",
            "spark-2.4.4-bin-hadoop2.7/examples/src/main/scala/org/apache/spark/examples/streaming/QueueStream.scala\n",
            "spark-2.4.4-bin-hadoop2.7/examples/src/main/scala/org/apache/spark/examples/streaming/NetworkWordCount.scala\n",
            "spark-2.4.4-bin-hadoop2.7/examples/src/main/scala/org/apache/spark/examples/streaming/HdfsWordCount.scala\n",
            "spark-2.4.4-bin-hadoop2.7/examples/src/main/scala/org/apache/spark/examples/streaming/DirectKafkaWordCount.scala\n",
            "spark-2.4.4-bin-hadoop2.7/examples/src/main/scala/org/apache/spark/examples/streaming/CustomReceiver.scala\n",
            "spark-2.4.4-bin-hadoop2.7/examples/src/main/scala/org/apache/spark/examples/sql/\n",
            "spark-2.4.4-bin-hadoop2.7/examples/src/main/scala/org/apache/spark/examples/sql/streaming/\n",
            "spark-2.4.4-bin-hadoop2.7/examples/src/main/scala/org/apache/spark/examples/sql/streaming/StructuredSessionization.scala\n",
            "spark-2.4.4-bin-hadoop2.7/examples/src/main/scala/org/apache/spark/examples/sql/streaming/StructuredNetworkWordCountWindowed.scala\n",
            "spark-2.4.4-bin-hadoop2.7/examples/src/main/scala/org/apache/spark/examples/sql/streaming/StructuredNetworkWordCount.scala\n",
            "spark-2.4.4-bin-hadoop2.7/examples/src/main/scala/org/apache/spark/examples/sql/streaming/StructuredKafkaWordCount.scala\n",
            "spark-2.4.4-bin-hadoop2.7/examples/src/main/scala/org/apache/spark/examples/sql/hive/\n",
            "spark-2.4.4-bin-hadoop2.7/examples/src/main/scala/org/apache/spark/examples/sql/hive/SparkHiveExample.scala\n",
            "spark-2.4.4-bin-hadoop2.7/examples/src/main/scala/org/apache/spark/examples/sql/UserDefinedUntypedAggregation.scala\n",
            "spark-2.4.4-bin-hadoop2.7/examples/src/main/scala/org/apache/spark/examples/sql/UserDefinedTypedAggregation.scala\n",
            "spark-2.4.4-bin-hadoop2.7/examples/src/main/scala/org/apache/spark/examples/sql/RDDRelation.scala\n",
            "spark-2.4.4-bin-hadoop2.7/examples/src/main/scala/org/apache/spark/examples/sql/SparkSQLExample.scala\n",
            "spark-2.4.4-bin-hadoop2.7/examples/src/main/scala/org/apache/spark/examples/sql/SQLDataSourceExample.scala\n",
            "spark-2.4.4-bin-hadoop2.7/examples/src/main/scala/org/apache/spark/examples/pythonconverters/\n",
            "spark-2.4.4-bin-hadoop2.7/examples/src/main/scala/org/apache/spark/examples/pythonconverters/AvroConverters.scala\n",
            "spark-2.4.4-bin-hadoop2.7/examples/src/main/scala/org/apache/spark/examples/LogQuery.scala\n",
            "spark-2.4.4-bin-hadoop2.7/examples/src/main/scala/org/apache/spark/examples/HdfsTest.scala\n",
            "spark-2.4.4-bin-hadoop2.7/examples/src/main/scala/org/apache/spark/examples/DFSReadWriteTest.scala\n",
            "spark-2.4.4-bin-hadoop2.7/examples/src/main/resources/\n",
            "spark-2.4.4-bin-hadoop2.7/examples/src/main/resources/users.parquet\n",
            "spark-2.4.4-bin-hadoop2.7/examples/src/main/resources/users.orc\n",
            "spark-2.4.4-bin-hadoop2.7/examples/src/main/resources/users.avro\n",
            "spark-2.4.4-bin-hadoop2.7/examples/src/main/resources/user.avsc\n",
            "spark-2.4.4-bin-hadoop2.7/examples/src/main/resources/people.txt\n",
            "spark-2.4.4-bin-hadoop2.7/examples/src/main/resources/people.json\n",
            "spark-2.4.4-bin-hadoop2.7/examples/src/main/resources/people.csv\n",
            "spark-2.4.4-bin-hadoop2.7/examples/src/main/resources/kv1.txt\n",
            "spark-2.4.4-bin-hadoop2.7/examples/src/main/resources/full_user.avsc\n",
            "spark-2.4.4-bin-hadoop2.7/examples/src/main/resources/employees.json\n",
            "spark-2.4.4-bin-hadoop2.7/examples/src/main/r/\n",
            "spark-2.4.4-bin-hadoop2.7/examples/src/main/r/streaming/\n",
            "spark-2.4.4-bin-hadoop2.7/examples/src/main/r/streaming/structured_network_wordcount.R\n",
            "spark-2.4.4-bin-hadoop2.7/examples/src/main/r/ml/\n",
            "spark-2.4.4-bin-hadoop2.7/examples/src/main/r/ml/svmLinear.R\n",
            "spark-2.4.4-bin-hadoop2.7/examples/src/main/r/ml/survreg.R\n",
            "spark-2.4.4-bin-hadoop2.7/examples/src/main/r/ml/randomForest.R\n",
            "spark-2.4.4-bin-hadoop2.7/examples/src/main/r/ml/naiveBayes.R\n",
            "spark-2.4.4-bin-hadoop2.7/examples/src/main/r/ml/mlp.R\n",
            "spark-2.4.4-bin-hadoop2.7/examples/src/main/r/ml/ml.R\n",
            "spark-2.4.4-bin-hadoop2.7/examples/src/main/r/ml/logit.R\n",
            "spark-2.4.4-bin-hadoop2.7/examples/src/main/r/ml/lda.R\n",
            "spark-2.4.4-bin-hadoop2.7/examples/src/main/r/ml/kstest.R\n",
            "spark-2.4.4-bin-hadoop2.7/examples/src/main/r/ml/kmeans.R\n",
            "spark-2.4.4-bin-hadoop2.7/examples/src/main/r/ml/isoreg.R\n",
            "spark-2.4.4-bin-hadoop2.7/examples/src/main/r/ml/glm.R\n",
            "spark-2.4.4-bin-hadoop2.7/examples/src/main/r/ml/gbt.R\n",
            "spark-2.4.4-bin-hadoop2.7/examples/src/main/r/ml/gaussianMixture.R\n",
            "spark-2.4.4-bin-hadoop2.7/examples/src/main/r/ml/fpm.R\n",
            "spark-2.4.4-bin-hadoop2.7/examples/src/main/r/ml/decisionTree.R\n",
            "spark-2.4.4-bin-hadoop2.7/examples/src/main/r/ml/bisectingKmeans.R\n",
            "spark-2.4.4-bin-hadoop2.7/examples/src/main/r/ml/als.R\n",
            "spark-2.4.4-bin-hadoop2.7/examples/src/main/r/dataframe.R\n",
            "spark-2.4.4-bin-hadoop2.7/examples/src/main/r/data-manipulation.R\n",
            "spark-2.4.4-bin-hadoop2.7/examples/src/main/r/RSparkSQLExample.R\n",
            "spark-2.4.4-bin-hadoop2.7/examples/src/main/python/\n",
            "spark-2.4.4-bin-hadoop2.7/examples/src/main/python/wordcount.py\n",
            "spark-2.4.4-bin-hadoop2.7/examples/src/main/python/transitive_closure.py\n",
            "spark-2.4.4-bin-hadoop2.7/examples/src/main/python/streaming/\n",
            "spark-2.4.4-bin-hadoop2.7/examples/src/main/python/streaming/stateful_network_wordcount.py\n",
            "spark-2.4.4-bin-hadoop2.7/examples/src/main/python/streaming/sql_network_wordcount.py\n",
            "spark-2.4.4-bin-hadoop2.7/examples/src/main/python/streaming/queue_stream.py\n",
            "spark-2.4.4-bin-hadoop2.7/examples/src/main/python/streaming/network_wordjoinsentiments.py\n",
            "spark-2.4.4-bin-hadoop2.7/examples/src/main/python/streaming/network_wordcount.py\n",
            "spark-2.4.4-bin-hadoop2.7/examples/src/main/python/streaming/hdfs_wordcount.py\n",
            "spark-2.4.4-bin-hadoop2.7/examples/src/main/python/streaming/recoverable_network_wordcount.py\n",
            "spark-2.4.4-bin-hadoop2.7/examples/src/main/python/streaming/kafka_wordcount.py\n",
            "spark-2.4.4-bin-hadoop2.7/examples/src/main/python/streaming/flume_wordcount.py\n",
            "spark-2.4.4-bin-hadoop2.7/examples/src/main/python/streaming/direct_kafka_wordcount.py\n",
            "spark-2.4.4-bin-hadoop2.7/examples/src/main/python/status_api_demo.py\n",
            "spark-2.4.4-bin-hadoop2.7/examples/src/main/python/sql/\n",
            "spark-2.4.4-bin-hadoop2.7/examples/src/main/python/sql/streaming/\n",
            "spark-2.4.4-bin-hadoop2.7/examples/src/main/python/sql/streaming/structured_network_wordcount_windowed.py\n",
            "spark-2.4.4-bin-hadoop2.7/examples/src/main/python/sql/streaming/structured_network_wordcount.py\n",
            "spark-2.4.4-bin-hadoop2.7/examples/src/main/python/sql/streaming/structured_kafka_wordcount.py\n",
            "spark-2.4.4-bin-hadoop2.7/examples/src/main/python/sql/basic.py\n",
            "spark-2.4.4-bin-hadoop2.7/examples/src/main/python/sql/hive.py\n",
            "spark-2.4.4-bin-hadoop2.7/examples/src/main/python/sql/datasource.py\n",
            "spark-2.4.4-bin-hadoop2.7/examples/src/main/python/sql/arrow.py\n",
            "spark-2.4.4-bin-hadoop2.7/examples/src/main/python/sort.py\n",
            "spark-2.4.4-bin-hadoop2.7/examples/src/main/python/pi.py\n",
            "spark-2.4.4-bin-hadoop2.7/examples/src/main/python/parquet_inputformat.py\n",
            "spark-2.4.4-bin-hadoop2.7/examples/src/main/python/pagerank.py\n",
            "spark-2.4.4-bin-hadoop2.7/examples/src/main/python/mllib/\n",
            "spark-2.4.4-bin-hadoop2.7/examples/src/main/python/mllib/word2vec_example.py\n",
            "spark-2.4.4-bin-hadoop2.7/examples/src/main/python/mllib/word2vec.py\n",
            "spark-2.4.4-bin-hadoop2.7/examples/src/main/python/mllib/tf_idf_example.py\n",
            "spark-2.4.4-bin-hadoop2.7/examples/src/main/python/mllib/svm_with_sgd_example.py\n",
            "spark-2.4.4-bin-hadoop2.7/examples/src/main/python/mllib/svd_example.py\n",
            "spark-2.4.4-bin-hadoop2.7/examples/src/main/python/mllib/summary_statistics_example.py\n",
            "spark-2.4.4-bin-hadoop2.7/examples/src/main/python/mllib/streaming_linear_regression_example.py\n",
            "spark-2.4.4-bin-hadoop2.7/examples/src/main/python/mllib/streaming_k_means_example.py\n",
            "spark-2.4.4-bin-hadoop2.7/examples/src/main/python/mllib/stratified_sampling_example.py\n",
            "spark-2.4.4-bin-hadoop2.7/examples/src/main/python/mllib/sampled_rdds.py\n",
            "spark-2.4.4-bin-hadoop2.7/examples/src/main/python/mllib/regression_metrics_example.py\n",
            "spark-2.4.4-bin-hadoop2.7/examples/src/main/python/mllib/recommendation_example.py\n",
            "spark-2.4.4-bin-hadoop2.7/examples/src/main/python/mllib/random_rdd_generation.py\n",
            "spark-2.4.4-bin-hadoop2.7/examples/src/main/python/mllib/random_forest_regression_example.py\n",
            "spark-2.4.4-bin-hadoop2.7/examples/src/main/python/mllib/random_forest_classification_example.py\n",
            "spark-2.4.4-bin-hadoop2.7/examples/src/main/python/mllib/power_iteration_clustering_example.py\n",
            "spark-2.4.4-bin-hadoop2.7/examples/src/main/python/mllib/pca_rowmatrix_example.py\n",
            "spark-2.4.4-bin-hadoop2.7/examples/src/main/python/mllib/normalizer_example.py\n",
            "spark-2.4.4-bin-hadoop2.7/examples/src/main/python/mllib/naive_bayes_example.py\n",
            "spark-2.4.4-bin-hadoop2.7/examples/src/main/python/mllib/multi_label_metrics_example.py\n",
            "spark-2.4.4-bin-hadoop2.7/examples/src/main/python/mllib/logistic_regression_with_lbfgs_example.py\n",
            "spark-2.4.4-bin-hadoop2.7/examples/src/main/python/mllib/logistic_regression.py\n",
            "spark-2.4.4-bin-hadoop2.7/examples/src/main/python/mllib/linear_regression_with_sgd_example.py\n",
            "spark-2.4.4-bin-hadoop2.7/examples/src/main/python/mllib/latent_dirichlet_allocation_example.py\n",
            "spark-2.4.4-bin-hadoop2.7/examples/src/main/python/mllib/kmeans.py\n",
            "spark-2.4.4-bin-hadoop2.7/examples/src/main/python/mllib/kernel_density_estimation_example.py\n",
            "spark-2.4.4-bin-hadoop2.7/examples/src/main/python/mllib/k_means_example.py\n",
            "spark-2.4.4-bin-hadoop2.7/examples/src/main/python/mllib/hypothesis_testing_kolmogorov_smirnov_test_example.py\n",
            "spark-2.4.4-bin-hadoop2.7/examples/src/main/python/mllib/hypothesis_testing_example.py\n",
            "spark-2.4.4-bin-hadoop2.7/examples/src/main/python/mllib/gradient_boosting_regression_example.py\n",
            "spark-2.4.4-bin-hadoop2.7/examples/src/main/python/mllib/gradient_boosting_classification_example.py\n",
            "spark-2.4.4-bin-hadoop2.7/examples/src/main/python/mllib/gaussian_mixture_model.py\n",
            "spark-2.4.4-bin-hadoop2.7/examples/src/main/python/mllib/gaussian_mixture_example.py\n",
            "spark-2.4.4-bin-hadoop2.7/examples/src/main/python/mllib/fpgrowth_example.py\n",
            "spark-2.4.4-bin-hadoop2.7/examples/src/main/python/mllib/elementwise_product_example.py\n",
            "spark-2.4.4-bin-hadoop2.7/examples/src/main/python/mllib/decision_tree_regression_example.py\n",
            "spark-2.4.4-bin-hadoop2.7/examples/src/main/python/mllib/decision_tree_classification_example.py\n",
            "spark-2.4.4-bin-hadoop2.7/examples/src/main/python/mllib/correlations_example.py\n",
            "spark-2.4.4-bin-hadoop2.7/examples/src/main/python/mllib/correlations.py\n",
            "spark-2.4.4-bin-hadoop2.7/examples/src/main/python/mllib/binary_classification_metrics_example.py\n",
            "spark-2.4.4-bin-hadoop2.7/examples/src/main/python/mllib/standard_scaler_example.py\n",
            "spark-2.4.4-bin-hadoop2.7/examples/src/main/python/mllib/ranking_metrics_example.py\n",
            "spark-2.4.4-bin-hadoop2.7/examples/src/main/python/mllib/multi_class_metrics_example.py\n",
            "spark-2.4.4-bin-hadoop2.7/examples/src/main/python/mllib/isotonic_regression_example.py\n",
            "spark-2.4.4-bin-hadoop2.7/examples/src/main/python/mllib/bisecting_k_means_example.py\n",
            "spark-2.4.4-bin-hadoop2.7/examples/src/main/python/ml/\n",
            "spark-2.4.4-bin-hadoop2.7/examples/src/main/python/ml/word2vec_example.py\n",
            "spark-2.4.4-bin-hadoop2.7/examples/src/main/python/ml/vector_slicer_example.py\n",
            "spark-2.4.4-bin-hadoop2.7/examples/src/main/python/ml/vector_size_hint_example.py\n",
            "spark-2.4.4-bin-hadoop2.7/examples/src/main/python/ml/vector_indexer_example.py\n",
            "spark-2.4.4-bin-hadoop2.7/examples/src/main/python/ml/vector_assembler_example.py\n",
            "spark-2.4.4-bin-hadoop2.7/examples/src/main/python/ml/train_validation_split.py\n",
            "spark-2.4.4-bin-hadoop2.7/examples/src/main/python/ml/tokenizer_example.py\n",
            "spark-2.4.4-bin-hadoop2.7/examples/src/main/python/ml/tf_idf_example.py\n",
            "spark-2.4.4-bin-hadoop2.7/examples/src/main/python/ml/summarizer_example.py\n",
            "spark-2.4.4-bin-hadoop2.7/examples/src/main/python/ml/string_indexer_example.py\n",
            "spark-2.4.4-bin-hadoop2.7/examples/src/main/python/ml/stopwords_remover_example.py\n",
            "spark-2.4.4-bin-hadoop2.7/examples/src/main/python/ml/standard_scaler_example.py\n",
            "spark-2.4.4-bin-hadoop2.7/examples/src/main/python/ml/sql_transformer.py\n",
            "spark-2.4.4-bin-hadoop2.7/examples/src/main/python/ml/rformula_example.py\n",
            "spark-2.4.4-bin-hadoop2.7/examples/src/main/python/ml/random_forest_regressor_example.py\n",
            "spark-2.4.4-bin-hadoop2.7/examples/src/main/python/ml/random_forest_classifier_example.py\n",
            "spark-2.4.4-bin-hadoop2.7/examples/src/main/python/ml/quantile_discretizer_example.py\n",
            "spark-2.4.4-bin-hadoop2.7/examples/src/main/python/ml/prefixspan_example.py\n",
            "spark-2.4.4-bin-hadoop2.7/examples/src/main/python/ml/polynomial_expansion_example.py\n",
            "spark-2.4.4-bin-hadoop2.7/examples/src/main/python/ml/pipeline_example.py\n",
            "spark-2.4.4-bin-hadoop2.7/examples/src/main/python/ml/pca_example.py\n",
            "spark-2.4.4-bin-hadoop2.7/examples/src/main/python/ml/one_vs_rest_example.py\n",
            "spark-2.4.4-bin-hadoop2.7/examples/src/main/python/ml/normalizer_example.py\n",
            "spark-2.4.4-bin-hadoop2.7/examples/src/main/python/ml/naive_bayes_example.py\n",
            "spark-2.4.4-bin-hadoop2.7/examples/src/main/python/ml/n_gram_example.py\n",
            "spark-2.4.4-bin-hadoop2.7/examples/src/main/python/ml/multilayer_perceptron_classification.py\n",
            "spark-2.4.4-bin-hadoop2.7/examples/src/main/python/ml/multiclass_logistic_regression_with_elastic_net.py\n",
            "spark-2.4.4-bin-hadoop2.7/examples/src/main/python/ml/min_max_scaler_example.py\n",
            "spark-2.4.4-bin-hadoop2.7/examples/src/main/python/ml/min_hash_lsh_example.py\n",
            "spark-2.4.4-bin-hadoop2.7/examples/src/main/python/ml/max_abs_scaler_example.py\n",
            "spark-2.4.4-bin-hadoop2.7/examples/src/main/python/ml/logistic_regression_with_elastic_net.py\n",
            "spark-2.4.4-bin-hadoop2.7/examples/src/main/python/ml/logistic_regression_summary_example.py\n",
            "spark-2.4.4-bin-hadoop2.7/examples/src/main/python/ml/linearsvc.py\n",
            "spark-2.4.4-bin-hadoop2.7/examples/src/main/python/ml/linear_regression_with_elastic_net.py\n",
            "spark-2.4.4-bin-hadoop2.7/examples/src/main/python/ml/lda_example.py\n",
            "spark-2.4.4-bin-hadoop2.7/examples/src/main/python/ml/kmeans_example.py\n",
            "spark-2.4.4-bin-hadoop2.7/examples/src/main/python/ml/isotonic_regression_example.py\n",
            "spark-2.4.4-bin-hadoop2.7/examples/src/main/python/ml/index_to_string_example.py\n",
            "spark-2.4.4-bin-hadoop2.7/examples/src/main/python/ml/imputer_example.py\n",
            "spark-2.4.4-bin-hadoop2.7/examples/src/main/python/ml/gradient_boosted_tree_regressor_example.py\n",
            "spark-2.4.4-bin-hadoop2.7/examples/src/main/python/ml/gradient_boosted_tree_classifier_example.py\n",
            "spark-2.4.4-bin-hadoop2.7/examples/src/main/python/ml/generalized_linear_regression_example.py\n",
            "spark-2.4.4-bin-hadoop2.7/examples/src/main/python/ml/gaussian_mixture_example.py\n",
            "spark-2.4.4-bin-hadoop2.7/examples/src/main/python/ml/fpgrowth_example.py\n",
            "spark-2.4.4-bin-hadoop2.7/examples/src/main/python/ml/feature_hasher_example.py\n",
            "spark-2.4.4-bin-hadoop2.7/examples/src/main/python/ml/estimator_transformer_param_example.py\n",
            "spark-2.4.4-bin-hadoop2.7/examples/src/main/python/ml/elementwise_product_example.py\n",
            "spark-2.4.4-bin-hadoop2.7/examples/src/main/python/ml/decision_tree_regression_example.py\n",
            "spark-2.4.4-bin-hadoop2.7/examples/src/main/python/ml/decision_tree_classification_example.py\n",
            "spark-2.4.4-bin-hadoop2.7/examples/src/main/python/ml/dct_example.py\n",
            "spark-2.4.4-bin-hadoop2.7/examples/src/main/python/ml/dataframe_example.py\n",
            "spark-2.4.4-bin-hadoop2.7/examples/src/main/python/ml/cross_validator.py\n",
            "spark-2.4.4-bin-hadoop2.7/examples/src/main/python/ml/count_vectorizer_example.py\n",
            "spark-2.4.4-bin-hadoop2.7/examples/src/main/python/ml/correlation_example.py\n",
            "spark-2.4.4-bin-hadoop2.7/examples/src/main/python/ml/chisq_selector_example.py\n",
            "spark-2.4.4-bin-hadoop2.7/examples/src/main/python/ml/chi_square_test_example.py\n",
            "spark-2.4.4-bin-hadoop2.7/examples/src/main/python/ml/bucketizer_example.py\n",
            "spark-2.4.4-bin-hadoop2.7/examples/src/main/python/ml/bucketed_random_projection_lsh_example.py\n",
            "spark-2.4.4-bin-hadoop2.7/examples/src/main/python/ml/binarizer_example.py\n",
            "spark-2.4.4-bin-hadoop2.7/examples/src/main/python/ml/als_example.py\n",
            "spark-2.4.4-bin-hadoop2.7/examples/src/main/python/ml/aft_survival_regression.py\n",
            "spark-2.4.4-bin-hadoop2.7/examples/src/main/python/ml/onehot_encoder_estimator_example.py\n",
            "spark-2.4.4-bin-hadoop2.7/examples/src/main/python/ml/bisecting_k_means_example.py\n",
            "spark-2.4.4-bin-hadoop2.7/examples/src/main/python/logistic_regression.py\n",
            "spark-2.4.4-bin-hadoop2.7/examples/src/main/python/kmeans.py\n",
            "spark-2.4.4-bin-hadoop2.7/examples/src/main/python/avro_inputformat.py\n",
            "spark-2.4.4-bin-hadoop2.7/examples/src/main/python/als.py\n",
            "spark-2.4.4-bin-hadoop2.7/examples/src/main/java/\n",
            "spark-2.4.4-bin-hadoop2.7/examples/src/main/java/org/\n",
            "spark-2.4.4-bin-hadoop2.7/examples/src/main/java/org/apache/\n",
            "spark-2.4.4-bin-hadoop2.7/examples/src/main/java/org/apache/spark/\n",
            "spark-2.4.4-bin-hadoop2.7/examples/src/main/java/org/apache/spark/examples/\n",
            "spark-2.4.4-bin-hadoop2.7/examples/src/main/java/org/apache/spark/examples/streaming/\n",
            "spark-2.4.4-bin-hadoop2.7/examples/src/main/java/org/apache/spark/examples/streaming/JavaStatefulNetworkWordCount.java\n",
            "spark-2.4.4-bin-hadoop2.7/examples/src/main/java/org/apache/spark/examples/streaming/JavaSqlNetworkWordCount.java\n",
            "spark-2.4.4-bin-hadoop2.7/examples/src/main/java/org/apache/spark/examples/streaming/JavaRecoverableNetworkWordCount.java\n",
            "spark-2.4.4-bin-hadoop2.7/examples/src/main/java/org/apache/spark/examples/streaming/JavaRecord.java\n",
            "spark-2.4.4-bin-hadoop2.7/examples/src/main/java/org/apache/spark/examples/streaming/JavaQueueStream.java\n",
            "spark-2.4.4-bin-hadoop2.7/examples/src/main/java/org/apache/spark/examples/streaming/JavaNetworkWordCount.java\n",
            "spark-2.4.4-bin-hadoop2.7/examples/src/main/java/org/apache/spark/examples/streaming/JavaDirectKafkaWordCount.java\n",
            "spark-2.4.4-bin-hadoop2.7/examples/src/main/java/org/apache/spark/examples/streaming/JavaCustomReceiver.java\n",
            "spark-2.4.4-bin-hadoop2.7/examples/src/main/java/org/apache/spark/examples/sql/\n",
            "spark-2.4.4-bin-hadoop2.7/examples/src/main/java/org/apache/spark/examples/sql/streaming/\n",
            "spark-2.4.4-bin-hadoop2.7/examples/src/main/java/org/apache/spark/examples/sql/streaming/JavaStructuredNetworkWordCountWindowed.java\n",
            "spark-2.4.4-bin-hadoop2.7/examples/src/main/java/org/apache/spark/examples/sql/streaming/JavaStructuredNetworkWordCount.java\n",
            "spark-2.4.4-bin-hadoop2.7/examples/src/main/java/org/apache/spark/examples/sql/streaming/JavaStructuredKafkaWordCount.java\n",
            "spark-2.4.4-bin-hadoop2.7/examples/src/main/java/org/apache/spark/examples/sql/streaming/JavaStructuredSessionization.java\n",
            "spark-2.4.4-bin-hadoop2.7/examples/src/main/java/org/apache/spark/examples/sql/hive/\n",
            "spark-2.4.4-bin-hadoop2.7/examples/src/main/java/org/apache/spark/examples/sql/hive/JavaSparkHiveExample.java\n",
            "spark-2.4.4-bin-hadoop2.7/examples/src/main/java/org/apache/spark/examples/sql/JavaUserDefinedUntypedAggregation.java\n",
            "spark-2.4.4-bin-hadoop2.7/examples/src/main/java/org/apache/spark/examples/sql/JavaUserDefinedTypedAggregation.java\n",
            "spark-2.4.4-bin-hadoop2.7/examples/src/main/java/org/apache/spark/examples/sql/JavaSparkSQLExample.java\n",
            "spark-2.4.4-bin-hadoop2.7/examples/src/main/java/org/apache/spark/examples/sql/JavaSQLDataSourceExample.java\n",
            "spark-2.4.4-bin-hadoop2.7/examples/src/main/java/org/apache/spark/examples/mllib/\n",
            "spark-2.4.4-bin-hadoop2.7/examples/src/main/java/org/apache/spark/examples/mllib/JavaSummaryStatisticsExample.java\n",
            "spark-2.4.4-bin-hadoop2.7/examples/src/main/java/org/apache/spark/examples/mllib/JavaStreamingTestExample.java\n",
            "spark-2.4.4-bin-hadoop2.7/examples/src/main/java/org/apache/spark/examples/mllib/JavaStratifiedSamplingExample.java\n",
            "spark-2.4.4-bin-hadoop2.7/examples/src/main/java/org/apache/spark/examples/mllib/JavaSimpleFPGrowth.java\n",
            "spark-2.4.4-bin-hadoop2.7/examples/src/main/java/org/apache/spark/examples/mllib/JavaSVMWithSGDExample.java\n",
            "spark-2.4.4-bin-hadoop2.7/examples/src/main/java/org/apache/spark/examples/mllib/JavaSVDExample.java\n",
            "spark-2.4.4-bin-hadoop2.7/examples/src/main/java/org/apache/spark/examples/mllib/JavaRegressionMetricsExample.java\n",
            "spark-2.4.4-bin-hadoop2.7/examples/src/main/java/org/apache/spark/examples/mllib/JavaRecommendationExample.java\n",
            "spark-2.4.4-bin-hadoop2.7/examples/src/main/java/org/apache/spark/examples/mllib/JavaRandomForestRegressionExample.java\n",
            "spark-2.4.4-bin-hadoop2.7/examples/src/main/java/org/apache/spark/examples/mllib/JavaPrefixSpanExample.java\n",
            "spark-2.4.4-bin-hadoop2.7/examples/src/main/java/org/apache/spark/examples/mllib/JavaPowerIterationClusteringExample.java\n",
            "spark-2.4.4-bin-hadoop2.7/examples/src/main/java/org/apache/spark/examples/mllib/JavaPCAExample.java\n",
            "spark-2.4.4-bin-hadoop2.7/examples/src/main/java/org/apache/spark/examples/mllib/JavaNaiveBayesExample.java\n",
            "spark-2.4.4-bin-hadoop2.7/examples/src/main/java/org/apache/spark/examples/mllib/JavaMulticlassClassificationMetricsExample.java\n",
            "spark-2.4.4-bin-hadoop2.7/examples/src/main/java/org/apache/spark/examples/mllib/JavaMultiLabelClassificationMetricsExample.java\n",
            "spark-2.4.4-bin-hadoop2.7/examples/src/main/java/org/apache/spark/examples/mllib/JavaLogisticRegressionWithLBFGSExample.java\n",
            "spark-2.4.4-bin-hadoop2.7/examples/src/main/java/org/apache/spark/examples/mllib/JavaLinearRegressionWithSGDExample.java\n",
            "spark-2.4.4-bin-hadoop2.7/examples/src/main/java/org/apache/spark/examples/mllib/JavaLatentDirichletAllocationExample.java\n",
            "spark-2.4.4-bin-hadoop2.7/examples/src/main/java/org/apache/spark/examples/mllib/JavaLBFGSExample.java\n",
            "spark-2.4.4-bin-hadoop2.7/examples/src/main/java/org/apache/spark/examples/mllib/JavaKernelDensityEstimationExample.java\n",
            "spark-2.4.4-bin-hadoop2.7/examples/src/main/java/org/apache/spark/examples/mllib/JavaKMeansExample.java\n",
            "spark-2.4.4-bin-hadoop2.7/examples/src/main/java/org/apache/spark/examples/mllib/JavaIsotonicRegressionExample.java\n",
            "spark-2.4.4-bin-hadoop2.7/examples/src/main/java/org/apache/spark/examples/mllib/JavaHypothesisTestingKolmogorovSmirnovTestExample.java\n",
            "spark-2.4.4-bin-hadoop2.7/examples/src/main/java/org/apache/spark/examples/mllib/JavaHypothesisTestingExample.java\n",
            "spark-2.4.4-bin-hadoop2.7/examples/src/main/java/org/apache/spark/examples/mllib/JavaGradientBoostingRegressionExample.java\n",
            "spark-2.4.4-bin-hadoop2.7/examples/src/main/java/org/apache/spark/examples/mllib/JavaGradientBoostingClassificationExample.java\n",
            "spark-2.4.4-bin-hadoop2.7/examples/src/main/java/org/apache/spark/examples/mllib/JavaGaussianMixtureExample.java\n",
            "spark-2.4.4-bin-hadoop2.7/examples/src/main/java/org/apache/spark/examples/mllib/JavaElementwiseProductExample.java\n",
            "spark-2.4.4-bin-hadoop2.7/examples/src/main/java/org/apache/spark/examples/mllib/JavaDecisionTreeRegressionExample.java\n",
            "spark-2.4.4-bin-hadoop2.7/examples/src/main/java/org/apache/spark/examples/mllib/JavaDecisionTreeClassificationExample.java\n",
            "spark-2.4.4-bin-hadoop2.7/examples/src/main/java/org/apache/spark/examples/mllib/JavaChiSqSelectorExample.java\n",
            "spark-2.4.4-bin-hadoop2.7/examples/src/main/java/org/apache/spark/examples/mllib/JavaBisectingKMeansExample.java\n",
            "spark-2.4.4-bin-hadoop2.7/examples/src/main/java/org/apache/spark/examples/mllib/JavaBinaryClassificationMetricsExample.java\n",
            "spark-2.4.4-bin-hadoop2.7/examples/src/main/java/org/apache/spark/examples/mllib/JavaAssociationRulesExample.java\n",
            "spark-2.4.4-bin-hadoop2.7/examples/src/main/java/org/apache/spark/examples/mllib/JavaALS.java\n",
            "spark-2.4.4-bin-hadoop2.7/examples/src/main/java/org/apache/spark/examples/mllib/JavaRankingMetricsExample.java\n",
            "spark-2.4.4-bin-hadoop2.7/examples/src/main/java/org/apache/spark/examples/mllib/JavaRandomForestClassificationExample.java\n",
            "spark-2.4.4-bin-hadoop2.7/examples/src/main/java/org/apache/spark/examples/mllib/JavaCorrelationsExample.java\n",
            "spark-2.4.4-bin-hadoop2.7/examples/src/main/java/org/apache/spark/examples/ml/\n",
            "spark-2.4.4-bin-hadoop2.7/examples/src/main/java/org/apache/spark/examples/ml/JavaWord2VecExample.java\n",
            "spark-2.4.4-bin-hadoop2.7/examples/src/main/java/org/apache/spark/examples/ml/JavaVectorSlicerExample.java\n",
            "spark-2.4.4-bin-hadoop2.7/examples/src/main/java/org/apache/spark/examples/ml/JavaVectorSizeHintExample.java\n",
            "spark-2.4.4-bin-hadoop2.7/examples/src/main/java/org/apache/spark/examples/ml/JavaVectorIndexerExample.java\n",
            "spark-2.4.4-bin-hadoop2.7/examples/src/main/java/org/apache/spark/examples/ml/JavaVectorAssemblerExample.java\n",
            "spark-2.4.4-bin-hadoop2.7/examples/src/main/java/org/apache/spark/examples/ml/JavaTokenizerExample.java\n",
            "spark-2.4.4-bin-hadoop2.7/examples/src/main/java/org/apache/spark/examples/ml/JavaTfIdfExample.java\n",
            "spark-2.4.4-bin-hadoop2.7/examples/src/main/java/org/apache/spark/examples/ml/JavaSummarizerExample.java\n",
            "spark-2.4.4-bin-hadoop2.7/examples/src/main/java/org/apache/spark/examples/ml/JavaStringIndexerExample.java\n",
            "spark-2.4.4-bin-hadoop2.7/examples/src/main/java/org/apache/spark/examples/ml/JavaStopWordsRemoverExample.java\n",
            "spark-2.4.4-bin-hadoop2.7/examples/src/main/java/org/apache/spark/examples/ml/JavaStandardScalerExample.java\n",
            "spark-2.4.4-bin-hadoop2.7/examples/src/main/java/org/apache/spark/examples/ml/JavaSQLTransformerExample.java\n",
            "spark-2.4.4-bin-hadoop2.7/examples/src/main/java/org/apache/spark/examples/ml/JavaRandomForestRegressorExample.java\n",
            "spark-2.4.4-bin-hadoop2.7/examples/src/main/java/org/apache/spark/examples/ml/JavaRFormulaExample.java\n",
            "spark-2.4.4-bin-hadoop2.7/examples/src/main/java/org/apache/spark/examples/ml/JavaQuantileDiscretizerExample.java\n",
            "spark-2.4.4-bin-hadoop2.7/examples/src/main/java/org/apache/spark/examples/ml/JavaPowerIterationClusteringExample.java\n",
            "spark-2.4.4-bin-hadoop2.7/examples/src/main/java/org/apache/spark/examples/ml/JavaPolynomialExpansionExample.java\n",
            "spark-2.4.4-bin-hadoop2.7/examples/src/main/java/org/apache/spark/examples/ml/JavaPipelineExample.java\n",
            "spark-2.4.4-bin-hadoop2.7/examples/src/main/java/org/apache/spark/examples/ml/JavaPCAExample.java\n",
            "spark-2.4.4-bin-hadoop2.7/examples/src/main/java/org/apache/spark/examples/ml/JavaOneVsRestExample.java\n",
            "spark-2.4.4-bin-hadoop2.7/examples/src/main/java/org/apache/spark/examples/ml/JavaNormalizerExample.java\n",
            "spark-2.4.4-bin-hadoop2.7/examples/src/main/java/org/apache/spark/examples/ml/JavaNaiveBayesExample.java\n",
            "spark-2.4.4-bin-hadoop2.7/examples/src/main/java/org/apache/spark/examples/ml/JavaNGramExample.java\n",
            "spark-2.4.4-bin-hadoop2.7/examples/src/main/java/org/apache/spark/examples/ml/JavaMultilayerPerceptronClassifierExample.java\n",
            "spark-2.4.4-bin-hadoop2.7/examples/src/main/java/org/apache/spark/examples/ml/JavaMulticlassLogisticRegressionWithElasticNetExample.java\n",
            "spark-2.4.4-bin-hadoop2.7/examples/src/main/java/org/apache/spark/examples/ml/JavaModelSelectionViaTrainValidationSplitExample.java\n",
            "spark-2.4.4-bin-hadoop2.7/examples/src/main/java/org/apache/spark/examples/ml/JavaModelSelectionViaCrossValidationExample.java\n",
            "spark-2.4.4-bin-hadoop2.7/examples/src/main/java/org/apache/spark/examples/ml/JavaMinMaxScalerExample.java\n",
            "spark-2.4.4-bin-hadoop2.7/examples/src/main/java/org/apache/spark/examples/ml/JavaMinHashLSHExample.java\n",
            "spark-2.4.4-bin-hadoop2.7/examples/src/main/java/org/apache/spark/examples/ml/JavaMaxAbsScalerExample.java\n",
            "spark-2.4.4-bin-hadoop2.7/examples/src/main/java/org/apache/spark/examples/ml/JavaLogisticRegressionWithElasticNetExample.java\n",
            "spark-2.4.4-bin-hadoop2.7/examples/src/main/java/org/apache/spark/examples/ml/JavaLogisticRegressionSummaryExample.java\n",
            "spark-2.4.4-bin-hadoop2.7/examples/src/main/java/org/apache/spark/examples/ml/JavaLinearSVCExample.java\n",
            "spark-2.4.4-bin-hadoop2.7/examples/src/main/java/org/apache/spark/examples/ml/JavaLinearRegressionWithElasticNetExample.java\n",
            "spark-2.4.4-bin-hadoop2.7/examples/src/main/java/org/apache/spark/examples/ml/JavaLabeledDocument.java\n",
            "spark-2.4.4-bin-hadoop2.7/examples/src/main/java/org/apache/spark/examples/ml/JavaLDAExample.java\n",
            "spark-2.4.4-bin-hadoop2.7/examples/src/main/java/org/apache/spark/examples/ml/JavaKMeansExample.java\n",
            "spark-2.4.4-bin-hadoop2.7/examples/src/main/java/org/apache/spark/examples/ml/JavaIsotonicRegressionExample.java\n",
            "spark-2.4.4-bin-hadoop2.7/examples/src/main/java/org/apache/spark/examples/ml/JavaInteractionExample.java\n",
            "spark-2.4.4-bin-hadoop2.7/examples/src/main/java/org/apache/spark/examples/ml/JavaIndexToStringExample.java\n",
            "spark-2.4.4-bin-hadoop2.7/examples/src/main/java/org/apache/spark/examples/ml/JavaImputerExample.java\n",
            "spark-2.4.4-bin-hadoop2.7/examples/src/main/java/org/apache/spark/examples/ml/JavaGradientBoostedTreeRegressorExample.java\n",
            "spark-2.4.4-bin-hadoop2.7/examples/src/main/java/org/apache/spark/examples/ml/JavaGeneralizedLinearRegressionExample.java\n",
            "spark-2.4.4-bin-hadoop2.7/examples/src/main/java/org/apache/spark/examples/ml/JavaGaussianMixtureExample.java\n",
            "spark-2.4.4-bin-hadoop2.7/examples/src/main/java/org/apache/spark/examples/ml/JavaFeatureHasherExample.java\n",
            "spark-2.4.4-bin-hadoop2.7/examples/src/main/java/org/apache/spark/examples/ml/JavaFPGrowthExample.java\n",
            "spark-2.4.4-bin-hadoop2.7/examples/src/main/java/org/apache/spark/examples/ml/JavaEstimatorTransformerParamExample.java\n",
            "spark-2.4.4-bin-hadoop2.7/examples/src/main/java/org/apache/spark/examples/ml/JavaElementwiseProductExample.java\n",
            "spark-2.4.4-bin-hadoop2.7/examples/src/main/java/org/apache/spark/examples/ml/JavaDocument.java\n",
            "spark-2.4.4-bin-hadoop2.7/examples/src/main/java/org/apache/spark/examples/ml/JavaDecisionTreeRegressionExample.java\n",
            "spark-2.4.4-bin-hadoop2.7/examples/src/main/java/org/apache/spark/examples/ml/JavaDCTExample.java\n",
            "spark-2.4.4-bin-hadoop2.7/examples/src/main/java/org/apache/spark/examples/ml/JavaCountVectorizerExample.java\n",
            "spark-2.4.4-bin-hadoop2.7/examples/src/main/java/org/apache/spark/examples/ml/JavaCorrelationExample.java\n",
            "spark-2.4.4-bin-hadoop2.7/examples/src/main/java/org/apache/spark/examples/ml/JavaChiSquareTestExample.java\n",
            "spark-2.4.4-bin-hadoop2.7/examples/src/main/java/org/apache/spark/examples/ml/JavaChiSqSelectorExample.java\n",
            "spark-2.4.4-bin-hadoop2.7/examples/src/main/java/org/apache/spark/examples/ml/JavaBucketizerExample.java\n",
            "spark-2.4.4-bin-hadoop2.7/examples/src/main/java/org/apache/spark/examples/ml/JavaBucketedRandomProjectionLSHExample.java\n",
            "spark-2.4.4-bin-hadoop2.7/examples/src/main/java/org/apache/spark/examples/ml/JavaBinarizerExample.java\n",
            "spark-2.4.4-bin-hadoop2.7/examples/src/main/java/org/apache/spark/examples/ml/JavaAFTSurvivalRegressionExample.java\n",
            "spark-2.4.4-bin-hadoop2.7/examples/src/main/java/org/apache/spark/examples/ml/JavaRandomForestClassifierExample.java\n",
            "spark-2.4.4-bin-hadoop2.7/examples/src/main/java/org/apache/spark/examples/ml/JavaPrefixSpanExample.java\n",
            "spark-2.4.4-bin-hadoop2.7/examples/src/main/java/org/apache/spark/examples/ml/JavaOneHotEncoderEstimatorExample.java\n",
            "spark-2.4.4-bin-hadoop2.7/examples/src/main/java/org/apache/spark/examples/ml/JavaGradientBoostedTreeClassifierExample.java\n",
            "spark-2.4.4-bin-hadoop2.7/examples/src/main/java/org/apache/spark/examples/ml/JavaDecisionTreeClassificationExample.java\n",
            "spark-2.4.4-bin-hadoop2.7/examples/src/main/java/org/apache/spark/examples/ml/JavaBisectingKMeansExample.java\n",
            "spark-2.4.4-bin-hadoop2.7/examples/src/main/java/org/apache/spark/examples/ml/JavaALSExample.java\n",
            "spark-2.4.4-bin-hadoop2.7/examples/src/main/java/org/apache/spark/examples/JavaWordCount.java\n",
            "spark-2.4.4-bin-hadoop2.7/examples/src/main/java/org/apache/spark/examples/JavaStatusTrackerDemo.java\n",
            "spark-2.4.4-bin-hadoop2.7/examples/src/main/java/org/apache/spark/examples/JavaSparkPi.java\n",
            "spark-2.4.4-bin-hadoop2.7/examples/src/main/java/org/apache/spark/examples/JavaPageRank.java\n",
            "spark-2.4.4-bin-hadoop2.7/examples/src/main/java/org/apache/spark/examples/JavaLogQuery.java\n",
            "spark-2.4.4-bin-hadoop2.7/examples/src/main/java/org/apache/spark/examples/JavaHdfsLR.java\n",
            "spark-2.4.4-bin-hadoop2.7/examples/src/main/java/org/apache/spark/examples/JavaTC.java\n",
            "spark-2.4.4-bin-hadoop2.7/examples/jars/\n",
            "spark-2.4.4-bin-hadoop2.7/examples/jars/spark-examples_2.11-2.4.4.jar\n",
            "spark-2.4.4-bin-hadoop2.7/examples/jars/scopt_2.11-3.7.0.jar\n",
            "spark-2.4.4-bin-hadoop2.7/kubernetes/\n",
            "spark-2.4.4-bin-hadoop2.7/kubernetes/tests/\n",
            "spark-2.4.4-bin-hadoop2.7/kubernetes/tests/pyfiles.py\n",
            "spark-2.4.4-bin-hadoop2.7/kubernetes/tests/worker_memory_check.py\n",
            "spark-2.4.4-bin-hadoop2.7/kubernetes/tests/py_container_checks.py\n",
            "spark-2.4.4-bin-hadoop2.7/kubernetes/dockerfiles/\n",
            "spark-2.4.4-bin-hadoop2.7/kubernetes/dockerfiles/spark/\n",
            "spark-2.4.4-bin-hadoop2.7/kubernetes/dockerfiles/spark/entrypoint.sh\n",
            "spark-2.4.4-bin-hadoop2.7/kubernetes/dockerfiles/spark/Dockerfile\n",
            "spark-2.4.4-bin-hadoop2.7/kubernetes/dockerfiles/spark/bindings/\n",
            "spark-2.4.4-bin-hadoop2.7/kubernetes/dockerfiles/spark/bindings/python/\n",
            "spark-2.4.4-bin-hadoop2.7/kubernetes/dockerfiles/spark/bindings/python/Dockerfile\n",
            "spark-2.4.4-bin-hadoop2.7/kubernetes/dockerfiles/spark/bindings/R/\n",
            "spark-2.4.4-bin-hadoop2.7/kubernetes/dockerfiles/spark/bindings/R/Dockerfile\n",
            "spark-2.4.4-bin-hadoop2.7/yarn/\n",
            "spark-2.4.4-bin-hadoop2.7/yarn/spark-2.4.4-yarn-shuffle.jar\n",
            "spark-2.4.4-bin-hadoop2.7/jars/\n",
            "spark-2.4.4-bin-hadoop2.7/jars/jackson-mapper-asl-1.9.13.jar\n",
            "spark-2.4.4-bin-hadoop2.7/jars/jackson-jaxrs-1.9.13.jar\n",
            "spark-2.4.4-bin-hadoop2.7/jars/jackson-dataformat-yaml-2.6.7.jar\n",
            "spark-2.4.4-bin-hadoop2.7/jars/jackson-databind-2.6.7.1.jar\n",
            "spark-2.4.4-bin-hadoop2.7/jars/jackson-core-asl-1.9.13.jar\n",
            "spark-2.4.4-bin-hadoop2.7/jars/jackson-core-2.6.7.jar\n",
            "spark-2.4.4-bin-hadoop2.7/jars/jackson-annotations-2.6.7.jar\n",
            "spark-2.4.4-bin-hadoop2.7/jars/ivy-2.4.0.jar\n",
            "spark-2.4.4-bin-hadoop2.7/jars/httpcore-4.4.10.jar\n",
            "spark-2.4.4-bin-hadoop2.7/jars/httpclient-4.5.6.jar\n",
            "spark-2.4.4-bin-hadoop2.7/jars/htrace-core-3.1.0-incubating.jar\n",
            "spark-2.4.4-bin-hadoop2.7/jars/hppc-0.7.2.jar\n",
            "spark-2.4.4-bin-hadoop2.7/jars/hk2-utils-2.4.0-b34.jar\n",
            "spark-2.4.4-bin-hadoop2.7/jars/hk2-locator-2.4.0-b34.jar\n",
            "spark-2.4.4-bin-hadoop2.7/jars/hk2-api-2.4.0-b34.jar\n",
            "spark-2.4.4-bin-hadoop2.7/jars/hive-metastore-1.2.1.spark2.jar\n",
            "spark-2.4.4-bin-hadoop2.7/jars/hive-jdbc-1.2.1.spark2.jar\n",
            "spark-2.4.4-bin-hadoop2.7/jars/hive-exec-1.2.1.spark2.jar\n",
            "spark-2.4.4-bin-hadoop2.7/jars/hive-cli-1.2.1.spark2.jar\n",
            "spark-2.4.4-bin-hadoop2.7/jars/hive-beeline-1.2.1.spark2.jar\n",
            "spark-2.4.4-bin-hadoop2.7/jars/hadoop-yarn-server-web-proxy-2.7.3.jar\n",
            "spark-2.4.4-bin-hadoop2.7/jars/hadoop-yarn-server-common-2.7.3.jar\n",
            "spark-2.4.4-bin-hadoop2.7/jars/hadoop-yarn-common-2.7.3.jar\n",
            "spark-2.4.4-bin-hadoop2.7/jars/hadoop-yarn-client-2.7.3.jar\n",
            "spark-2.4.4-bin-hadoop2.7/jars/hadoop-yarn-api-2.7.3.jar\n",
            "spark-2.4.4-bin-hadoop2.7/jars/hadoop-mapreduce-client-shuffle-2.7.3.jar\n",
            "spark-2.4.4-bin-hadoop2.7/jars/hadoop-mapreduce-client-jobclient-2.7.3.jar\n",
            "spark-2.4.4-bin-hadoop2.7/jars/hadoop-mapreduce-client-core-2.7.3.jar\n",
            "spark-2.4.4-bin-hadoop2.7/jars/hadoop-mapreduce-client-common-2.7.3.jar\n",
            "spark-2.4.4-bin-hadoop2.7/jars/hadoop-mapreduce-client-app-2.7.3.jar\n",
            "spark-2.4.4-bin-hadoop2.7/jars/hadoop-hdfs-2.7.3.jar\n",
            "spark-2.4.4-bin-hadoop2.7/jars/hadoop-common-2.7.3.jar\n",
            "spark-2.4.4-bin-hadoop2.7/jars/hadoop-client-2.7.3.jar\n",
            "spark-2.4.4-bin-hadoop2.7/jars/hadoop-auth-2.7.3.jar\n",
            "spark-2.4.4-bin-hadoop2.7/jars/hadoop-annotations-2.7.3.jar\n",
            "spark-2.4.4-bin-hadoop2.7/jars/guice-servlet-3.0.jar\n",
            "spark-2.4.4-bin-hadoop2.7/jars/guice-3.0.jar\n",
            "spark-2.4.4-bin-hadoop2.7/jars/guava-14.0.1.jar\n",
            "spark-2.4.4-bin-hadoop2.7/jars/gson-2.2.4.jar\n",
            "spark-2.4.4-bin-hadoop2.7/jars/generex-1.0.1.jar\n",
            "spark-2.4.4-bin-hadoop2.7/jars/flatbuffers-1.2.0-3f79e055.jar\n",
            "spark-2.4.4-bin-hadoop2.7/jars/eigenbase-properties-1.1.5.jar\n",
            "spark-2.4.4-bin-hadoop2.7/jars/derby-10.12.1.1.jar\n",
            "spark-2.4.4-bin-hadoop2.7/jars/datanucleus-rdbms-3.2.9.jar\n",
            "spark-2.4.4-bin-hadoop2.7/jars/datanucleus-core-3.2.10.jar\n",
            "spark-2.4.4-bin-hadoop2.7/jars/datanucleus-api-jdo-3.2.6.jar\n",
            "spark-2.4.4-bin-hadoop2.7/jars/curator-recipes-2.7.1.jar\n",
            "spark-2.4.4-bin-hadoop2.7/jars/curator-framework-2.7.1.jar\n",
            "spark-2.4.4-bin-hadoop2.7/jars/curator-client-2.7.1.jar\n",
            "spark-2.4.4-bin-hadoop2.7/jars/core-1.1.2.jar\n",
            "spark-2.4.4-bin-hadoop2.7/jars/compress-lzf-1.0.3.jar\n",
            "spark-2.4.4-bin-hadoop2.7/jars/commons-pool-1.5.4.jar\n",
            "spark-2.4.4-bin-hadoop2.7/jars/commons-net-3.1.jar\n",
            "spark-2.4.4-bin-hadoop2.7/jars/commons-math3-3.4.1.jar\n",
            "spark-2.4.4-bin-hadoop2.7/jars/commons-logging-1.1.3.jar\n",
            "spark-2.4.4-bin-hadoop2.7/jars/commons-lang3-3.5.jar\n",
            "spark-2.4.4-bin-hadoop2.7/jars/commons-lang-2.6.jar\n",
            "spark-2.4.4-bin-hadoop2.7/jars/commons-io-2.4.jar\n",
            "spark-2.4.4-bin-hadoop2.7/jars/commons-httpclient-3.1.jar\n",
            "spark-2.4.4-bin-hadoop2.7/jars/commons-digester-1.8.jar\n",
            "spark-2.4.4-bin-hadoop2.7/jars/commons-dbcp-1.4.jar\n",
            "spark-2.4.4-bin-hadoop2.7/jars/commons-crypto-1.0.0.jar\n",
            "spark-2.4.4-bin-hadoop2.7/jars/commons-configuration-1.6.jar\n",
            "spark-2.4.4-bin-hadoop2.7/jars/commons-compress-1.8.1.jar\n",
            "spark-2.4.4-bin-hadoop2.7/jars/commons-compiler-3.0.9.jar\n",
            "spark-2.4.4-bin-hadoop2.7/jars/commons-collections-3.2.2.jar\n",
            "spark-2.4.4-bin-hadoop2.7/jars/commons-codec-1.10.jar\n",
            "spark-2.4.4-bin-hadoop2.7/jars/commons-cli-1.2.jar\n",
            "spark-2.4.4-bin-hadoop2.7/jars/commons-beanutils-1.9.3.jar\n",
            "spark-2.4.4-bin-hadoop2.7/jars/chill_2.11-0.9.3.jar\n",
            "spark-2.4.4-bin-hadoop2.7/jars/chill-java-0.9.3.jar\n",
            "spark-2.4.4-bin-hadoop2.7/jars/calcite-linq4j-1.2.0-incubating.jar\n",
            "spark-2.4.4-bin-hadoop2.7/jars/calcite-core-1.2.0-incubating.jar\n",
            "spark-2.4.4-bin-hadoop2.7/jars/calcite-avatica-1.2.0-incubating.jar\n",
            "spark-2.4.4-bin-hadoop2.7/jars/breeze_2.11-0.13.2.jar\n",
            "spark-2.4.4-bin-hadoop2.7/jars/breeze-macros_2.11-0.13.2.jar\n",
            "spark-2.4.4-bin-hadoop2.7/jars/bonecp-0.8.0.RELEASE.jar\n",
            "spark-2.4.4-bin-hadoop2.7/jars/avro-mapred-1.8.2-hadoop2.jar\n",
            "spark-2.4.4-bin-hadoop2.7/jars/avro-ipc-1.8.2.jar\n",
            "spark-2.4.4-bin-hadoop2.7/jars/avro-1.8.2.jar\n",
            "spark-2.4.4-bin-hadoop2.7/jars/automaton-1.11-8.jar\n",
            "spark-2.4.4-bin-hadoop2.7/jars/arrow-vector-0.10.0.jar\n",
            "spark-2.4.4-bin-hadoop2.7/jars/arrow-memory-0.10.0.jar\n",
            "spark-2.4.4-bin-hadoop2.7/jars/arrow-format-0.10.0.jar\n",
            "spark-2.4.4-bin-hadoop2.7/jars/arpack_combined_all-0.1.jar\n",
            "spark-2.4.4-bin-hadoop2.7/jars/api-util-1.0.0-M20.jar\n",
            "spark-2.4.4-bin-hadoop2.7/jars/api-asn1-api-1.0.0-M20.jar\n",
            "spark-2.4.4-bin-hadoop2.7/jars/apacheds-kerberos-codec-2.0.0-M15.jar\n",
            "spark-2.4.4-bin-hadoop2.7/jars/apacheds-i18n-2.0.0-M15.jar\n",
            "spark-2.4.4-bin-hadoop2.7/jars/apache-log4j-extras-1.2.17.jar\n",
            "spark-2.4.4-bin-hadoop2.7/jars/aopalliance-repackaged-2.4.0-b34.jar\n",
            "spark-2.4.4-bin-hadoop2.7/jars/aopalliance-1.0.jar\n",
            "spark-2.4.4-bin-hadoop2.7/jars/antlr4-runtime-4.7.jar\n",
            "spark-2.4.4-bin-hadoop2.7/jars/antlr-runtime-3.4.jar\n",
            "spark-2.4.4-bin-hadoop2.7/jars/antlr-2.7.7.jar\n",
            "spark-2.4.4-bin-hadoop2.7/jars/aircompressor-0.10.jar\n",
            "spark-2.4.4-bin-hadoop2.7/jars/activation-1.1.1.jar\n",
            "spark-2.4.4-bin-hadoop2.7/jars/ST4-4.0.4.jar\n",
            "spark-2.4.4-bin-hadoop2.7/jars/RoaringBitmap-0.7.45.jar\n",
            "spark-2.4.4-bin-hadoop2.7/jars/JavaEWAH-0.3.2.jar\n",
            "spark-2.4.4-bin-hadoop2.7/jars/zstd-jni-1.3.2-2.jar\n",
            "spark-2.4.4-bin-hadoop2.7/jars/zookeeper-3.4.6.jar\n",
            "spark-2.4.4-bin-hadoop2.7/jars/zjsonpatch-0.3.0.jar\n",
            "spark-2.4.4-bin-hadoop2.7/jars/xz-1.5.jar\n",
            "spark-2.4.4-bin-hadoop2.7/jars/xmlenc-0.52.jar\n",
            "spark-2.4.4-bin-hadoop2.7/jars/xercesImpl-2.9.1.jar\n",
            "spark-2.4.4-bin-hadoop2.7/jars/xbean-asm6-shaded-4.8.jar\n",
            "spark-2.4.4-bin-hadoop2.7/jars/validation-api-1.1.0.Final.jar\n",
            "spark-2.4.4-bin-hadoop2.7/jars/univocity-parsers-2.7.3.jar\n",
            "spark-2.4.4-bin-hadoop2.7/jars/super-csv-2.2.0.jar\n",
            "spark-2.4.4-bin-hadoop2.7/jars/stringtemplate-3.2.1.jar\n",
            "spark-2.4.4-bin-hadoop2.7/jars/stream-2.7.0.jar\n",
            "spark-2.4.4-bin-hadoop2.7/jars/stax-api-1.0.1.jar\n",
            "spark-2.4.4-bin-hadoop2.7/jars/stax-api-1.0-2.jar\n",
            "spark-2.4.4-bin-hadoop2.7/jars/spire_2.11-0.13.0.jar\n",
            "spark-2.4.4-bin-hadoop2.7/jars/spire-macros_2.11-0.13.0.jar\n",
            "spark-2.4.4-bin-hadoop2.7/jars/spark-yarn_2.11-2.4.4.jar\n",
            "spark-2.4.4-bin-hadoop2.7/jars/spark-unsafe_2.11-2.4.4.jar\n",
            "spark-2.4.4-bin-hadoop2.7/jars/spark-tags_2.11-2.4.4.jar\n",
            "spark-2.4.4-bin-hadoop2.7/jars/spark-tags_2.11-2.4.4-tests.jar\n",
            "spark-2.4.4-bin-hadoop2.7/jars/spark-streaming_2.11-2.4.4.jar\n",
            "spark-2.4.4-bin-hadoop2.7/jars/spark-sql_2.11-2.4.4.jar\n",
            "spark-2.4.4-bin-hadoop2.7/jars/spark-sketch_2.11-2.4.4.jar\n",
            "spark-2.4.4-bin-hadoop2.7/jars/spark-repl_2.11-2.4.4.jar\n",
            "spark-2.4.4-bin-hadoop2.7/jars/spark-network-shuffle_2.11-2.4.4.jar\n",
            "spark-2.4.4-bin-hadoop2.7/jars/spark-network-common_2.11-2.4.4.jar\n",
            "spark-2.4.4-bin-hadoop2.7/jars/spark-mllib_2.11-2.4.4.jar\n",
            "spark-2.4.4-bin-hadoop2.7/jars/spark-mllib-local_2.11-2.4.4.jar\n",
            "spark-2.4.4-bin-hadoop2.7/jars/spark-mesos_2.11-2.4.4.jar\n",
            "spark-2.4.4-bin-hadoop2.7/jars/spark-launcher_2.11-2.4.4.jar\n",
            "spark-2.4.4-bin-hadoop2.7/jars/spark-kvstore_2.11-2.4.4.jar\n",
            "spark-2.4.4-bin-hadoop2.7/jars/spark-kubernetes_2.11-2.4.4.jar\n",
            "spark-2.4.4-bin-hadoop2.7/jars/spark-hive_2.11-2.4.4.jar\n",
            "spark-2.4.4-bin-hadoop2.7/jars/spark-hive-thriftserver_2.11-2.4.4.jar\n",
            "spark-2.4.4-bin-hadoop2.7/jars/spark-graphx_2.11-2.4.4.jar\n",
            "spark-2.4.4-bin-hadoop2.7/jars/spark-core_2.11-2.4.4.jar\n",
            "spark-2.4.4-bin-hadoop2.7/jars/spark-catalyst_2.11-2.4.4.jar\n",
            "spark-2.4.4-bin-hadoop2.7/jars/snappy-java-1.1.7.3.jar\n",
            "spark-2.4.4-bin-hadoop2.7/jars/snappy-0.2.jar\n",
            "spark-2.4.4-bin-hadoop2.7/jars/snakeyaml-1.15.jar\n",
            "spark-2.4.4-bin-hadoop2.7/jars/slf4j-log4j12-1.7.16.jar\n",
            "spark-2.4.4-bin-hadoop2.7/jars/slf4j-api-1.7.16.jar\n",
            "spark-2.4.4-bin-hadoop2.7/jars/shims-0.7.45.jar\n",
            "spark-2.4.4-bin-hadoop2.7/jars/shapeless_2.11-2.3.2.jar\n",
            "spark-2.4.4-bin-hadoop2.7/jars/scala-xml_2.11-1.0.5.jar\n",
            "spark-2.4.4-bin-hadoop2.7/jars/scala-reflect-2.11.12.jar\n",
            "spark-2.4.4-bin-hadoop2.7/jars/scala-parser-combinators_2.11-1.1.0.jar\n",
            "spark-2.4.4-bin-hadoop2.7/jars/scala-library-2.11.12.jar\n",
            "spark-2.4.4-bin-hadoop2.7/jars/scala-compiler-2.11.12.jar\n",
            "spark-2.4.4-bin-hadoop2.7/jars/pyrolite-4.13.jar\n",
            "spark-2.4.4-bin-hadoop2.7/jars/py4j-0.10.7.jar\n",
            "spark-2.4.4-bin-hadoop2.7/jars/protobuf-java-2.5.0.jar\n",
            "spark-2.4.4-bin-hadoop2.7/jars/parquet-jackson-1.10.1.jar\n",
            "spark-2.4.4-bin-hadoop2.7/jars/parquet-hadoop-bundle-1.6.0.jar\n",
            "spark-2.4.4-bin-hadoop2.7/jars/parquet-hadoop-1.10.1.jar\n",
            "spark-2.4.4-bin-hadoop2.7/jars/parquet-format-2.4.0.jar\n",
            "spark-2.4.4-bin-hadoop2.7/jars/parquet-encoding-1.10.1.jar\n",
            "spark-2.4.4-bin-hadoop2.7/jars/parquet-common-1.10.1.jar\n",
            "spark-2.4.4-bin-hadoop2.7/jars/parquet-column-1.10.1.jar\n",
            "spark-2.4.4-bin-hadoop2.7/jars/paranamer-2.8.jar\n",
            "spark-2.4.4-bin-hadoop2.7/jars/osgi-resource-locator-1.0.1.jar\n",
            "spark-2.4.4-bin-hadoop2.7/jars/oro-2.0.8.jar\n",
            "spark-2.4.4-bin-hadoop2.7/jars/orc-shims-1.5.5.jar\n",
            "spark-2.4.4-bin-hadoop2.7/jars/orc-mapreduce-1.5.5-nohive.jar\n",
            "spark-2.4.4-bin-hadoop2.7/jars/orc-core-1.5.5-nohive.jar\n",
            "spark-2.4.4-bin-hadoop2.7/jars/opencsv-2.3.jar\n",
            "spark-2.4.4-bin-hadoop2.7/jars/okio-1.13.0.jar\n",
            "spark-2.4.4-bin-hadoop2.7/jars/okhttp-3.8.1.jar\n",
            "spark-2.4.4-bin-hadoop2.7/jars/objenesis-2.5.1.jar\n",
            "spark-2.4.4-bin-hadoop2.7/jars/netty-all-4.1.17.Final.jar\n",
            "spark-2.4.4-bin-hadoop2.7/jars/netty-3.9.9.Final.jar\n",
            "spark-2.4.4-bin-hadoop2.7/jars/minlog-1.3.0.jar\n",
            "spark-2.4.4-bin-hadoop2.7/jars/metrics-jvm-3.1.5.jar\n",
            "spark-2.4.4-bin-hadoop2.7/jars/metrics-json-3.1.5.jar\n",
            "spark-2.4.4-bin-hadoop2.7/jars/metrics-graphite-3.1.5.jar\n",
            "spark-2.4.4-bin-hadoop2.7/jars/metrics-core-3.1.5.jar\n",
            "spark-2.4.4-bin-hadoop2.7/jars/mesos-1.4.0-shaded-protobuf.jar\n",
            "spark-2.4.4-bin-hadoop2.7/jars/macro-compat_2.11-1.1.1.jar\n",
            "spark-2.4.4-bin-hadoop2.7/jars/machinist_2.11-0.6.1.jar\n",
            "spark-2.4.4-bin-hadoop2.7/jars/lz4-java-1.4.0.jar\n",
            "spark-2.4.4-bin-hadoop2.7/jars/logging-interceptor-3.12.0.jar\n",
            "spark-2.4.4-bin-hadoop2.7/jars/log4j-1.2.17.jar\n",
            "spark-2.4.4-bin-hadoop2.7/jars/libthrift-0.9.3.jar\n",
            "spark-2.4.4-bin-hadoop2.7/jars/libfb303-0.9.3.jar\n",
            "spark-2.4.4-bin-hadoop2.7/jars/leveldbjni-all-1.8.jar\n",
            "spark-2.4.4-bin-hadoop2.7/jars/kubernetes-model-common-4.1.2.jar\n",
            "spark-2.4.4-bin-hadoop2.7/jars/kubernetes-model-4.1.2.jar\n",
            "spark-2.4.4-bin-hadoop2.7/jars/kubernetes-client-4.1.2.jar\n",
            "spark-2.4.4-bin-hadoop2.7/jars/kryo-shaded-4.0.2.jar\n",
            "spark-2.4.4-bin-hadoop2.7/jars/jul-to-slf4j-1.7.16.jar\n",
            "spark-2.4.4-bin-hadoop2.7/jars/jtransforms-2.4.0.jar\n",
            "spark-2.4.4-bin-hadoop2.7/jars/jta-1.1.jar\n",
            "spark-2.4.4-bin-hadoop2.7/jars/jsr305-1.3.9.jar\n",
            "spark-2.4.4-bin-hadoop2.7/jars/jsp-api-2.1.jar\n",
            "spark-2.4.4-bin-hadoop2.7/jars/json4s-scalap_2.11-3.5.3.jar\n",
            "spark-2.4.4-bin-hadoop2.7/jars/json4s-jackson_2.11-3.5.3.jar\n",
            "spark-2.4.4-bin-hadoop2.7/jars/json4s-core_2.11-3.5.3.jar\n",
            "spark-2.4.4-bin-hadoop2.7/jars/json4s-ast_2.11-3.5.3.jar\n",
            "spark-2.4.4-bin-hadoop2.7/jars/jpam-1.1.jar\n",
            "spark-2.4.4-bin-hadoop2.7/jars/jodd-core-3.5.2.jar\n",
            "spark-2.4.4-bin-hadoop2.7/jars/joda-time-2.9.3.jar\n",
            "spark-2.4.4-bin-hadoop2.7/jars/jline-2.14.6.jar\n",
            "spark-2.4.4-bin-hadoop2.7/jars/jetty-util-6.1.26.jar\n",
            "spark-2.4.4-bin-hadoop2.7/jars/jetty-6.1.26.jar\n",
            "spark-2.4.4-bin-hadoop2.7/jars/jersey-server-2.22.2.jar\n",
            "spark-2.4.4-bin-hadoop2.7/jars/jersey-media-jaxb-2.22.2.jar\n",
            "spark-2.4.4-bin-hadoop2.7/jars/jersey-guava-2.22.2.jar\n",
            "spark-2.4.4-bin-hadoop2.7/jars/jersey-container-servlet-core-2.22.2.jar\n",
            "spark-2.4.4-bin-hadoop2.7/jars/jersey-container-servlet-2.22.2.jar\n",
            "spark-2.4.4-bin-hadoop2.7/jars/jersey-common-2.22.2.jar\n",
            "spark-2.4.4-bin-hadoop2.7/jars/jersey-client-2.22.2.jar\n",
            "spark-2.4.4-bin-hadoop2.7/jars/jdo-api-3.0.1.jar\n",
            "spark-2.4.4-bin-hadoop2.7/jars/jcl-over-slf4j-1.7.16.jar\n",
            "spark-2.4.4-bin-hadoop2.7/jars/jaxb-api-2.2.2.jar\n",
            "spark-2.4.4-bin-hadoop2.7/jars/javolution-5.5.1.jar\n",
            "spark-2.4.4-bin-hadoop2.7/jars/javax.ws.rs-api-2.0.1.jar\n",
            "spark-2.4.4-bin-hadoop2.7/jars/javax.servlet-api-3.1.0.jar\n",
            "spark-2.4.4-bin-hadoop2.7/jars/javax.inject-2.4.0-b34.jar\n",
            "spark-2.4.4-bin-hadoop2.7/jars/javax.inject-1.jar\n",
            "spark-2.4.4-bin-hadoop2.7/jars/javax.annotation-api-1.2.jar\n",
            "spark-2.4.4-bin-hadoop2.7/jars/javassist-3.18.1-GA.jar\n",
            "spark-2.4.4-bin-hadoop2.7/jars/janino-3.0.9.jar\n",
            "spark-2.4.4-bin-hadoop2.7/jars/jackson-xc-1.9.13.jar\n",
            "spark-2.4.4-bin-hadoop2.7/jars/jackson-module-scala_2.11-2.6.7.1.jar\n",
            "spark-2.4.4-bin-hadoop2.7/jars/jackson-module-paranamer-2.7.9.jar\n",
            "spark-2.4.4-bin-hadoop2.7/jars/jackson-module-jaxb-annotations-2.6.7.jar\n",
            "spark-2.4.4-bin-hadoop2.7/RELEASE\n"
          ],
          "name": "stdout"
        }
      ]
    },
    {
      "cell_type": "code",
      "metadata": {
        "id": "F_JDSAwlx3BG",
        "colab_type": "code",
        "outputId": "4c583497-3146-478b-ff98-83441182f1e0",
        "colab": {
          "base_uri": "https://localhost:8080/",
          "height": 34
        }
      },
      "source": [
        "!ls"
      ],
      "execution_count": 0,
      "outputs": [
        {
          "output_type": "stream",
          "text": [
            "sample_data  spark  spark-2.4.4-bin-hadoop2.7.tgz\n"
          ],
          "name": "stdout"
        }
      ]
    },
    {
      "cell_type": "code",
      "metadata": {
        "id": "hBLPd9kUx2yy",
        "colab_type": "code",
        "colab": {}
      },
      "source": [
        "!mv spark-2.4.4-bin-hadoop2.7 spark"
      ],
      "execution_count": 0,
      "outputs": []
    },
    {
      "cell_type": "code",
      "metadata": {
        "id": "EwrTTDRIyRi_",
        "colab_type": "code",
        "colab": {}
      },
      "source": [
        "!pip install -q findspark"
      ],
      "execution_count": 0,
      "outputs": []
    },
    {
      "cell_type": "code",
      "metadata": {
        "id": "-P4QLapeyZqK",
        "colab_type": "code",
        "colab": {}
      },
      "source": [
        "import os"
      ],
      "execution_count": 0,
      "outputs": []
    },
    {
      "cell_type": "code",
      "metadata": {
        "id": "3u6jJSVqyb6k",
        "colab_type": "code",
        "colab": {}
      },
      "source": [
        "os.environ[\"JAVA_HOME\"] = \"/usr/lib/jvm/java-1.8.0-openjdk-amd64\""
      ],
      "execution_count": 0,
      "outputs": []
    },
    {
      "cell_type": "code",
      "metadata": {
        "id": "DmdXYkNjCuqh",
        "colab_type": "code",
        "colab": {}
      },
      "source": [
        "!PATH=$PATH:$JAVA_HOME/bin"
      ],
      "execution_count": 0,
      "outputs": []
    },
    {
      "cell_type": "code",
      "metadata": {
        "id": "UYiEXDndC02X",
        "colab_type": "code",
        "outputId": "6e21e048-90d4-41ba-ccf4-2ecce058bd0e",
        "colab": {
          "base_uri": "https://localhost:8080/",
          "height": 51
        }
      },
      "source": [
        "!ls /usr/lib/jvm/java-8-openjdk-amd64/b"
      ],
      "execution_count": 0,
      "outputs": [
        {
          "output_type": "stream",
          "text": [
            "default-java\t\t   java-11-openjdk-amd64     java-8-openjdk-amd64\n",
            "java-1.11.0-openjdk-amd64  java-1.8.0-openjdk-amd64\n"
          ],
          "name": "stdout"
        }
      ]
    },
    {
      "cell_type": "code",
      "metadata": {
        "id": "s295EpqkDtXa",
        "colab_type": "code",
        "outputId": "1e00fe7c-c4b8-4a86-8a76-116d2fb22ad8",
        "colab": {
          "base_uri": "https://localhost:8080/",
          "height": 68
        }
      },
      "source": [
        "!java -version"
      ],
      "execution_count": 0,
      "outputs": [
        {
          "output_type": "stream",
          "text": [
            "openjdk version \"11.0.5\" 2019-10-15\n",
            "OpenJDK Runtime Environment (build 11.0.5+10-post-Ubuntu-0ubuntu1.118.04)\n",
            "OpenJDK 64-Bit Server VM (build 11.0.5+10-post-Ubuntu-0ubuntu1.118.04, mixed mode, sharing)\n"
          ],
          "name": "stdout"
        }
      ]
    },
    {
      "cell_type": "code",
      "metadata": {
        "id": "EbEQw-WED1pH",
        "colab_type": "code",
        "colab": {}
      },
      "source": [
        "!export JAVA_HOME=\"/usr/lib/jvm/java-8-openjdk-amd64\"\n",
        "!PATH=$PATH:$JAVA_HOME/bin"
      ],
      "execution_count": 0,
      "outputs": []
    },
    {
      "cell_type": "code",
      "metadata": {
        "id": "wF7E30I2EeU5",
        "colab_type": "code",
        "outputId": "9536b77d-2555-4522-a808-73a825e2ea41",
        "colab": {
          "base_uri": "https://localhost:8080/",
          "height": 68
        }
      },
      "source": [
        "!java -version"
      ],
      "execution_count": 0,
      "outputs": [
        {
          "output_type": "stream",
          "text": [
            "openjdk version \"11.0.5\" 2019-10-15\n",
            "OpenJDK Runtime Environment (build 11.0.5+10-post-Ubuntu-0ubuntu1.118.04)\n",
            "OpenJDK 64-Bit Server VM (build 11.0.5+10-post-Ubuntu-0ubuntu1.118.04, mixed mode, sharing)\n"
          ],
          "name": "stdout"
        }
      ]
    },
    {
      "cell_type": "code",
      "metadata": {
        "id": "9fZimNUfEmIC",
        "colab_type": "code",
        "outputId": "78a31f88-3263-4a0c-cf7d-d4c6c88b32df",
        "colab": {
          "base_uri": "https://localhost:8080/",
          "height": 408
        }
      },
      "source": [
        "!apt-get install nano"
      ],
      "execution_count": 0,
      "outputs": [
        {
          "output_type": "stream",
          "text": [
            "Reading package lists... Done\n",
            "Building dependency tree       \n",
            "Reading state information... Done\n",
            "The following package was automatically installed and is no longer required:\n",
            "  libnvidia-common-430\n",
            "Use 'apt autoremove' to remove it.\n",
            "Suggested packages:\n",
            "  spell\n",
            "The following NEW packages will be installed:\n",
            "  nano\n",
            "0 upgraded, 1 newly installed, 0 to remove and 19 not upgraded.\n",
            "Need to get 231 kB of archives.\n",
            "After this operation, 778 kB of additional disk space will be used.\n",
            "Get:1 http://archive.ubuntu.com/ubuntu bionic/main amd64 nano amd64 2.9.3-2 [231 kB]\n",
            "Fetched 231 kB in 1s (419 kB/s)\n",
            "Selecting previously unselected package nano.\n",
            "(Reading database ... 135004 files and directories currently installed.)\n",
            "Preparing to unpack .../nano_2.9.3-2_amd64.deb ...\n",
            "Unpacking nano (2.9.3-2) ...\n",
            "Setting up nano (2.9.3-2) ...\n",
            "update-alternatives: using /bin/nano to provide /usr/bin/editor (editor) in auto mode\n",
            "update-alternatives: using /bin/nano to provide /usr/bin/pico (pico) in auto mode\n",
            "Processing triggers for man-db (2.8.3-2ubuntu0.1) ...\n"
          ],
          "name": "stdout"
        }
      ]
    },
    {
      "cell_type": "code",
      "metadata": {
        "id": "wbAtxVD0GdNu",
        "colab_type": "code",
        "outputId": "73874bbf-3907-46c6-c5d4-fcae96cd1e77",
        "colab": {
          "base_uri": "https://localhost:8080/",
          "height": 34
        }
      },
      "source": [
        "!nano ~./bashrc"
      ],
      "execution_count": 54,
      "outputs": [
        {
          "output_type": "stream",
          "text": [
            "\u001b[?1l\u001b>Received SIGHUP or SIGTERM\n"
          ],
          "name": "stdout"
        }
      ]
    },
    {
      "cell_type": "code",
      "metadata": {
        "id": "1Vn_r4b8zuQr",
        "colab_type": "code",
        "outputId": "a8337b7f-caf0-41c3-9e8f-8bcae6fc8fb2",
        "colab": {
          "base_uri": "https://localhost:8080/",
          "height": 238
        }
      },
      "source": [
        "!pip install pyspark"
      ],
      "execution_count": 0,
      "outputs": [
        {
          "output_type": "stream",
          "text": [
            "Collecting pyspark\n",
            "\u001b[?25l  Downloading https://files.pythonhosted.org/packages/87/21/f05c186f4ddb01d15d0ddc36ef4b7e3cedbeb6412274a41f26b55a650ee5/pyspark-2.4.4.tar.gz (215.7MB)\n",
            "\u001b[K     |████████████████████████████████| 215.7MB 64kB/s \n",
            "\u001b[?25hCollecting py4j==0.10.7\n",
            "\u001b[?25l  Downloading https://files.pythonhosted.org/packages/e3/53/c737818eb9a7dc32a7cd4f1396e787bd94200c3997c72c1dbe028587bd76/py4j-0.10.7-py2.py3-none-any.whl (197kB)\n",
            "\u001b[K     |████████████████████████████████| 204kB 39.2MB/s \n",
            "\u001b[?25hBuilding wheels for collected packages: pyspark\n",
            "  Building wheel for pyspark (setup.py) ... \u001b[?25l\u001b[?25hdone\n",
            "  Created wheel for pyspark: filename=pyspark-2.4.4-py2.py3-none-any.whl size=216130387 sha256=66c323624ac60203e0021b89a983a6e8d1b2eddd8c3a33a1c76cd17eddc136e9\n",
            "  Stored in directory: /root/.cache/pip/wheels/ab/09/4d/0d184230058e654eb1b04467dbc1292f00eaa186544604b471\n",
            "Successfully built pyspark\n",
            "Installing collected packages: py4j, pyspark\n",
            "Successfully installed py4j-0.10.7 pyspark-2.4.4\n"
          ],
          "name": "stdout"
        }
      ]
    },
    {
      "cell_type": "code",
      "metadata": {
        "id": "1RCqIqbEy5Gs",
        "colab_type": "code",
        "colab": {}
      },
      "source": [
        "os.environ[\"SPARK_HOME\"] =\"/content/spak/\""
      ],
      "execution_count": 0,
      "outputs": []
    },
    {
      "cell_type": "code",
      "metadata": {
        "id": "Ev2xnAblzZoj",
        "colab_type": "code",
        "colab": {}
      },
      "source": [
        "import findspark\n",
        "findspark.init('/content/spark/')\n",
        "from pyspark import SparkContext\n",
        "sc = SparkContext.getOrCreate()"
      ],
      "execution_count": 0,
      "outputs": []
    },
    {
      "cell_type": "code",
      "metadata": {
        "id": "VLaRfYiI1gub",
        "colab_type": "code",
        "colab": {}
      },
      "source": [
        "import pyspark\n",
        "from pyspark.sql import SparkSession\n",
        "spark = SparkSession.builder.getOrCreate()"
      ],
      "execution_count": 0,
      "outputs": []
    },
    {
      "cell_type": "code",
      "metadata": {
        "id": "jDp9IcnL35K4",
        "colab_type": "code",
        "outputId": "768bf034-75db-43c3-8576-d1375085b1f2",
        "colab": {
          "base_uri": "https://localhost:8080/",
          "height": 51
        }
      },
      "source": [
        "!ls"
      ],
      "execution_count": 0,
      "outputs": [
        {
          "output_type": "stream",
          "text": [
            "'rows.csv?accessType=DOWNLOAD'\t spark\n",
            " sample_data\t\t\t spark-2.4.4-bin-hadoop2.7.tgz\n"
          ],
          "name": "stdout"
        }
      ]
    },
    {
      "cell_type": "code",
      "metadata": {
        "id": "BKpt0cbe2Akx",
        "colab_type": "code",
        "outputId": "93f13a06-ec75-4b69-ef8c-fa9dd6488b1a",
        "colab": {
          "base_uri": "https://localhost:8080/",
          "height": 216
        }
      },
      "source": [
        "spark"
      ],
      "execution_count": 0,
      "outputs": [
        {
          "output_type": "execute_result",
          "data": {
            "text/html": [
              "\n",
              "            <div>\n",
              "                <p><b>SparkSession - in-memory</b></p>\n",
              "                \n",
              "        <div>\n",
              "            <p><b>SparkContext</b></p>\n",
              "\n",
              "            <p><a href=\"http://681147920ca6:4040\">Spark UI</a></p>\n",
              "\n",
              "            <dl>\n",
              "              <dt>Version</dt>\n",
              "                <dd><code>v2.4.4</code></dd>\n",
              "              <dt>Master</dt>\n",
              "                <dd><code>local[*]</code></dd>\n",
              "              <dt>AppName</dt>\n",
              "                <dd><code>pyspark-shell</code></dd>\n",
              "            </dl>\n",
              "        </div>\n",
              "        \n",
              "            </div>\n",
              "        "
            ],
            "text/plain": [
              "<pyspark.sql.session.SparkSession at 0x7ff66b300080>"
            ]
          },
          "metadata": {
            "tags": []
          },
          "execution_count": 23
        }
      ]
    },
    {
      "cell_type": "code",
      "metadata": {
        "id": "ga--KwIo2S4D",
        "colab_type": "code",
        "outputId": "d1437317-5a98-4df1-977d-0e099844c5d3",
        "colab": {
          "base_uri": "https://localhost:8080/",
          "height": 204
        }
      },
      "source": [
        "!wget https://data.cityofchicago.org/api/views/ijzp-q8t2/rows.csv?accessType=DOWNLOAD"
      ],
      "execution_count": 0,
      "outputs": [
        {
          "output_type": "stream",
          "text": [
            "--2019-12-29 17:56:01--  https://data.cityofchicago.org/api/views/ijzp-q8t2/rows.csv?accessType=DOWNLOAD\n",
            "Resolving data.cityofchicago.org (data.cityofchicago.org)... 52.206.140.205, 52.206.68.26, 52.206.140.199\n",
            "Connecting to data.cityofchicago.org (data.cityofchicago.org)|52.206.140.205|:443... connected.\n",
            "HTTP request sent, awaiting response... 200 OK\n",
            "Length: unspecified [text/csv]\n",
            "Saving to: ‘rows.csv?accessType=DOWNLOAD’\n",
            "\n",
            "rows.csv?accessType     [<=>                 ]   1.54G  3.26MB/s    in 8m 21s  \n",
            "\n",
            "2019-12-29 18:04:22 (3.16 MB/s) - ‘rows.csv?accessType=DOWNLOAD’ saved [1659447776]\n",
            "\n"
          ],
          "name": "stdout"
        }
      ]
    },
    {
      "cell_type": "code",
      "metadata": {
        "id": "k2H3i1EE_HY6",
        "colab_type": "code",
        "colab": {}
      },
      "source": [
        "!mv rows.csv?accessType=DOWNLOAD reported-crimes.csv"
      ],
      "execution_count": 0,
      "outputs": []
    },
    {
      "cell_type": "code",
      "metadata": {
        "id": "MokIqGZO4Wqk",
        "colab_type": "code",
        "outputId": "f20b31fe-7b17-4faf-ee7e-889405a152d0",
        "colab": {
          "base_uri": "https://localhost:8080/",
          "height": 34
        }
      },
      "source": [
        "!ls"
      ],
      "execution_count": 0,
      "outputs": [
        {
          "output_type": "stream",
          "text": [
            "reported-crimes.csv  sample_data  spark  spark-2.4.4-bin-hadoop2.7.tgz\n"
          ],
          "name": "stdout"
        }
      ]
    },
    {
      "cell_type": "code",
      "metadata": {
        "id": "tAEXZT8M6mP2",
        "colab_type": "code",
        "outputId": "29a305e5-f4a2-4a36-ba17-28863cc253d6",
        "colab": {
          "base_uri": "https://localhost:8080/",
          "height": 224
        }
      },
      "source": [
        "from pyspark.sql.functions import to_timestamp,col,lit\n",
        "rc = spark.read.csv('reported-crimes.csv',header=True).withColumn('Date',to_timestamp(col('Date'),'MM/dd/yyy hh:mm:ss a'))\n",
        "rc.show(5)"
      ],
      "execution_count": 0,
      "outputs": [
        {
          "output_type": "stream",
          "text": [
            "+--------+-----------+-------------------+--------------------+----+-------------------+--------------------+--------------------+------+--------+----+--------+----+--------------+--------+------------+------------+----+--------------------+--------+---------+--------+\n",
            "|      ID|Case Number|               Date|               Block|IUCR|       Primary Type|         Description|Location Description|Arrest|Domestic|Beat|District|Ward|Community Area|FBI Code|X Coordinate|Y Coordinate|Year|          Updated On|Latitude|Longitude|Location|\n",
            "+--------+-----------+-------------------+--------------------+----+-------------------+--------------------+--------------------+------+--------+----+--------+----+--------------+--------+------------+------------+----+--------------------+--------+---------+--------+\n",
            "|11034701|   JA366925|2001-01-01 11:00:00|     016XX E 86TH PL|1153| DECEPTIVE PRACTICE|FINANCIAL IDENTIT...|           RESIDENCE| false|   false|0412|     004|   8|            45|      11|        null|        null|2001|08/05/2017 03:50:...|    null|     null|    null|\n",
            "|11227287|   JB147188|2017-10-08 03:00:00|  092XX S RACINE AVE|0281|CRIM SEXUAL ASSAULT|      NON-AGGRAVATED|           RESIDENCE| false|   false|2222|     022|  21|            73|      02|        null|        null|2017|02/11/2018 03:57:...|    null|     null|    null|\n",
            "|11227583|   JB147595|2017-03-28 14:00:00|     026XX W 79TH ST|0620|           BURGLARY|      UNLAWFUL ENTRY|               OTHER| false|   false|0835|     008|  18|            70|      05|        null|        null|2017|02/11/2018 03:57:...|    null|     null|    null|\n",
            "|11227293|   JB147230|2017-09-09 20:17:00|060XX S EBERHART AVE|0810|              THEFT|           OVER $500|           RESIDENCE| false|   false|0313|     003|  20|            42|      06|        null|        null|2017|02/11/2018 03:57:...|    null|     null|    null|\n",
            "|11227634|   JB147599|2017-08-26 10:00:00| 001XX W RANDOLPH ST|0281|CRIM SEXUAL ASSAULT|      NON-AGGRAVATED|         HOTEL/MOTEL| false|   false|0122|     001|  42|            32|      02|        null|        null|2017|02/11/2018 03:57:...|    null|     null|    null|\n",
            "+--------+-----------+-------------------+--------------------+----+-------------------+--------------------+--------------------+------+--------+----+--------+----+--------------+--------+------------+------------+----+--------------------+--------+---------+--------+\n",
            "only showing top 5 rows\n",
            "\n"
          ],
          "name": "stdout"
        }
      ]
    },
    {
      "cell_type": "code",
      "metadata": {
        "id": "DiXvpzmtFNts",
        "colab_type": "code",
        "outputId": "ce3953f0-0aec-4be1-bc92-31574fdf2c40",
        "colab": {
          "base_uri": "https://localhost:8080/",
          "height": 391
        }
      },
      "source": [
        "rc.columns"
      ],
      "execution_count": 0,
      "outputs": [
        {
          "output_type": "execute_result",
          "data": {
            "text/plain": [
              "['ID',\n",
              " 'Case Number',\n",
              " 'Date',\n",
              " 'Block',\n",
              " 'IUCR',\n",
              " 'Primary Type',\n",
              " 'Description',\n",
              " 'Location Description',\n",
              " 'Arrest',\n",
              " 'Domestic',\n",
              " 'Beat',\n",
              " 'District',\n",
              " 'Ward',\n",
              " 'Community Area',\n",
              " 'FBI Code',\n",
              " 'X Coordinate',\n",
              " 'Y Coordinate',\n",
              " 'Year',\n",
              " 'Updated On',\n",
              " 'Latitude',\n",
              " 'Longitude',\n",
              " 'Location']"
            ]
          },
          "metadata": {
            "tags": []
          },
          "execution_count": 14
        }
      ]
    },
    {
      "cell_type": "code",
      "metadata": {
        "id": "-sfs730xIZKK",
        "colab_type": "code",
        "colab": {
          "base_uri": "https://localhost:8080/",
          "height": 1000
        },
        "outputId": "2aa20bdd-5e52-4ebb-ee2a-60ceed894506"
      },
      "source": [
        "! sudo apt install openjdk-8-jdk"
      ],
      "execution_count": 60,
      "outputs": [
        {
          "output_type": "stream",
          "text": [
            "Reading package lists... Done\n",
            "Building dependency tree       \n",
            "Reading state information... Done\n",
            "The following package was automatically installed and is no longer required:\n",
            "  libnvidia-common-430\n",
            "Use 'sudo apt autoremove' to remove it.\n",
            "The following additional packages will be installed:\n",
            "  fonts-dejavu-core fonts-dejavu-extra libatk-wrapper-java\n",
            "  libatk-wrapper-java-jni libxxf86dga1 openjdk-8-jre x11-utils\n",
            "Suggested packages:\n",
            "  openjdk-8-demo openjdk-8-source visualvm icedtea-8-plugin mesa-utils\n",
            "The following NEW packages will be installed:\n",
            "  fonts-dejavu-core fonts-dejavu-extra libatk-wrapper-java\n",
            "  libatk-wrapper-java-jni libxxf86dga1 openjdk-8-jdk openjdk-8-jre x11-utils\n",
            "0 upgraded, 8 newly installed, 0 to remove and 19 not upgraded.\n",
            "Need to get 4,954 kB of archives.\n",
            "After this operation, 13.3 MB of additional disk space will be used.\n",
            "Get:1 http://archive.ubuntu.com/ubuntu bionic/main amd64 libxxf86dga1 amd64 2:1.1.4-1 [13.7 kB]\n",
            "Get:2 http://archive.ubuntu.com/ubuntu bionic/main amd64 fonts-dejavu-core all 2.37-1 [1,041 kB]\n",
            "Get:3 http://archive.ubuntu.com/ubuntu bionic/main amd64 fonts-dejavu-extra all 2.37-1 [1,953 kB]\n",
            "Get:4 http://archive.ubuntu.com/ubuntu bionic/main amd64 x11-utils amd64 7.7+3build1 [196 kB]\n",
            "Get:5 http://archive.ubuntu.com/ubuntu bionic/main amd64 libatk-wrapper-java all 0.33.3-20ubuntu0.1 [34.7 kB]\n",
            "Get:6 http://archive.ubuntu.com/ubuntu bionic/main amd64 libatk-wrapper-java-jni amd64 0.33.3-20ubuntu0.1 [28.3 kB]\n",
            "Get:7 http://archive.ubuntu.com/ubuntu bionic-updates/universe amd64 openjdk-8-jre amd64 8u232-b09-0ubuntu1~18.04.1 [69.8 kB]\n",
            "Get:8 http://archive.ubuntu.com/ubuntu bionic-updates/universe amd64 openjdk-8-jdk amd64 8u232-b09-0ubuntu1~18.04.1 [1,618 kB]\n",
            "Fetched 4,954 kB in 1s (5,248 kB/s)\n",
            "debconf: unable to initialize frontend: Dialog\n",
            "debconf: (No usable dialog-like program is installed, so the dialog based frontend cannot be used. at /usr/share/perl5/Debconf/FrontEnd/Dialog.pm line 76, <> line 8.)\n",
            "debconf: falling back to frontend: Readline\n",
            "debconf: unable to initialize frontend: Readline\n",
            "debconf: (This frontend requires a controlling tty.)\n",
            "debconf: falling back to frontend: Teletype\n",
            "dpkg-preconfigure: unable to re-open stdin: \n",
            "Selecting previously unselected package libxxf86dga1:amd64.\n",
            "(Reading database ... 135071 files and directories currently installed.)\n",
            "Preparing to unpack .../0-libxxf86dga1_2%3a1.1.4-1_amd64.deb ...\n",
            "Unpacking libxxf86dga1:amd64 (2:1.1.4-1) ...\n",
            "Selecting previously unselected package fonts-dejavu-core.\n",
            "Preparing to unpack .../1-fonts-dejavu-core_2.37-1_all.deb ...\n",
            "Unpacking fonts-dejavu-core (2.37-1) ...\n",
            "Selecting previously unselected package fonts-dejavu-extra.\n",
            "Preparing to unpack .../2-fonts-dejavu-extra_2.37-1_all.deb ...\n",
            "Unpacking fonts-dejavu-extra (2.37-1) ...\n",
            "Selecting previously unselected package x11-utils.\n",
            "Preparing to unpack .../3-x11-utils_7.7+3build1_amd64.deb ...\n",
            "Unpacking x11-utils (7.7+3build1) ...\n",
            "Selecting previously unselected package libatk-wrapper-java.\n",
            "Preparing to unpack .../4-libatk-wrapper-java_0.33.3-20ubuntu0.1_all.deb ...\n",
            "Unpacking libatk-wrapper-java (0.33.3-20ubuntu0.1) ...\n",
            "Selecting previously unselected package libatk-wrapper-java-jni:amd64.\n",
            "Preparing to unpack .../5-libatk-wrapper-java-jni_0.33.3-20ubuntu0.1_amd64.deb ...\n",
            "Unpacking libatk-wrapper-java-jni:amd64 (0.33.3-20ubuntu0.1) ...\n",
            "Selecting previously unselected package openjdk-8-jre:amd64.\n",
            "Preparing to unpack .../6-openjdk-8-jre_8u232-b09-0ubuntu1~18.04.1_amd64.deb ...\n",
            "Unpacking openjdk-8-jre:amd64 (8u232-b09-0ubuntu1~18.04.1) ...\n",
            "Selecting previously unselected package openjdk-8-jdk:amd64.\n",
            "Preparing to unpack .../7-openjdk-8-jdk_8u232-b09-0ubuntu1~18.04.1_amd64.deb ...\n",
            "Unpacking openjdk-8-jdk:amd64 (8u232-b09-0ubuntu1~18.04.1) ...\n",
            "Setting up fonts-dejavu-core (2.37-1) ...\n",
            "Setting up libxxf86dga1:amd64 (2:1.1.4-1) ...\n",
            "Setting up fonts-dejavu-extra (2.37-1) ...\n",
            "Setting up x11-utils (7.7+3build1) ...\n",
            "Setting up libatk-wrapper-java (0.33.3-20ubuntu0.1) ...\n",
            "Setting up libatk-wrapper-java-jni:amd64 (0.33.3-20ubuntu0.1) ...\n",
            "Setting up openjdk-8-jre:amd64 (8u232-b09-0ubuntu1~18.04.1) ...\n",
            "update-alternatives: using /usr/lib/jvm/java-8-openjdk-amd64/jre/bin/policytool to provide /usr/bin/policytool (policytool) in auto mode\n",
            "Setting up openjdk-8-jdk:amd64 (8u232-b09-0ubuntu1~18.04.1) ...\n",
            "update-alternatives: using /usr/lib/jvm/java-8-openjdk-amd64/bin/appletviewer to provide /usr/bin/appletviewer (appletviewer) in auto mode\n",
            "update-alternatives: using /usr/lib/jvm/java-8-openjdk-amd64/bin/jconsole to provide /usr/bin/jconsole (jconsole) in auto mode\n",
            "Processing triggers for man-db (2.8.3-2ubuntu0.1) ...\n",
            "Processing triggers for hicolor-icon-theme (0.17-2) ...\n",
            "Processing triggers for fontconfig (2.12.6-0ubuntu2) ...\n",
            "Processing triggers for mime-support (3.60ubuntu1) ...\n",
            "Processing triggers for libc-bin (2.27-3ubuntu1) ...\n"
          ],
          "name": "stdout"
        }
      ]
    },
    {
      "cell_type": "code",
      "metadata": {
        "id": "n3VeMlVpIt5b",
        "colab_type": "code",
        "colab": {
          "base_uri": "https://localhost:8080/",
          "height": 187
        },
        "outputId": "8ce6bbe1-1e76-4c88-8827-d04106d55e71"
      },
      "source": [
        "!sudo update-alternatives --config java"
      ],
      "execution_count": 61,
      "outputs": [
        {
          "output_type": "stream",
          "text": [
            "There are 2 choices for the alternative java (providing /usr/bin/java).\n",
            "\n",
            "  Selection    Path                                            Priority   Status\n",
            "------------------------------------------------------------\n",
            "* 0            /usr/lib/jvm/java-11-openjdk-amd64/bin/java      1111      auto mode\n",
            "  1            /usr/lib/jvm/java-11-openjdk-amd64/bin/java      1111      manual mode\n",
            "  2            /usr/lib/jvm/java-8-openjdk-amd64/jre/bin/java   1081      manual mode\n",
            "\n",
            "Press <enter> to keep the current choice[*], or type selection number: 2\n",
            "update-alternatives: using /usr/lib/jvm/java-8-openjdk-amd64/jre/bin/java to provide /usr/bin/java (java) in manual mode\n"
          ],
          "name": "stdout"
        }
      ]
    },
    {
      "cell_type": "code",
      "metadata": {
        "id": "ao8C3UqtI4i6",
        "colab_type": "code",
        "colab": {
          "base_uri": "https://localhost:8080/",
          "height": 68
        },
        "outputId": "eea9d2db-c649-49ac-9ef4-85512fab7672"
      },
      "source": [
        "!java -version"
      ],
      "execution_count": 62,
      "outputs": [
        {
          "output_type": "stream",
          "text": [
            "openjdk version \"1.8.0_232\"\n",
            "OpenJDK Runtime Environment (build 1.8.0_232-8u232-b09-0ubuntu1~18.04.1-b09)\n",
            "OpenJDK 64-Bit Server VM (build 25.232-b09, mixed mode)\n"
          ],
          "name": "stdout"
        }
      ]
    },
    {
      "cell_type": "code",
      "metadata": {
        "id": "FmLFr3GH-kTL",
        "colab_type": "code",
        "outputId": "40fb74ea-8926-4598-c336-f0e69af80e2b",
        "colab": {
          "base_uri": "https://localhost:8080/",
          "height": 1000
        }
      },
      "source": [
        "rc.count()"
      ],
      "execution_count": 64,
      "outputs": [
        {
          "output_type": "error",
          "ename": "IllegalArgumentException",
          "evalue": "ignored",
          "traceback": [
            "\u001b[0;31m---------------------------------------------------------------------------\u001b[0m",
            "\u001b[0;31mPy4JJavaError\u001b[0m                             Traceback (most recent call last)",
            "\u001b[0;32m/content/spark/python/pyspark/sql/utils.py\u001b[0m in \u001b[0;36mdeco\u001b[0;34m(*a, **kw)\u001b[0m\n\u001b[1;32m     62\u001b[0m         \u001b[0;32mtry\u001b[0m\u001b[0;34m:\u001b[0m\u001b[0;34m\u001b[0m\u001b[0;34m\u001b[0m\u001b[0m\n\u001b[0;32m---> 63\u001b[0;31m             \u001b[0;32mreturn\u001b[0m \u001b[0mf\u001b[0m\u001b[0;34m(\u001b[0m\u001b[0;34m*\u001b[0m\u001b[0ma\u001b[0m\u001b[0;34m,\u001b[0m \u001b[0;34m**\u001b[0m\u001b[0mkw\u001b[0m\u001b[0;34m)\u001b[0m\u001b[0;34m\u001b[0m\u001b[0;34m\u001b[0m\u001b[0m\n\u001b[0m\u001b[1;32m     64\u001b[0m         \u001b[0;32mexcept\u001b[0m \u001b[0mpy4j\u001b[0m\u001b[0;34m.\u001b[0m\u001b[0mprotocol\u001b[0m\u001b[0;34m.\u001b[0m\u001b[0mPy4JJavaError\u001b[0m \u001b[0;32mas\u001b[0m \u001b[0me\u001b[0m\u001b[0;34m:\u001b[0m\u001b[0;34m\u001b[0m\u001b[0;34m\u001b[0m\u001b[0m\n",
            "\u001b[0;32m/content/spark/python/lib/py4j-0.10.7-src.zip/py4j/protocol.py\u001b[0m in \u001b[0;36mget_return_value\u001b[0;34m(answer, gateway_client, target_id, name)\u001b[0m\n\u001b[1;32m    327\u001b[0m                     \u001b[0;34m\"An error occurred while calling {0}{1}{2}.\\n\"\u001b[0m\u001b[0;34m.\u001b[0m\u001b[0;34m\u001b[0m\u001b[0;34m\u001b[0m\u001b[0m\n\u001b[0;32m--> 328\u001b[0;31m                     format(target_id, \".\", name), value)\n\u001b[0m\u001b[1;32m    329\u001b[0m             \u001b[0;32melse\u001b[0m\u001b[0;34m:\u001b[0m\u001b[0;34m\u001b[0m\u001b[0;34m\u001b[0m\u001b[0m\n",
            "\u001b[0;31mPy4JJavaError\u001b[0m: An error occurred while calling o62.count.\n: java.lang.IllegalArgumentException: Unsupported class file major version 55\n\tat org.apache.xbean.asm6.ClassReader.<init>(ClassReader.java:166)\n\tat org.apache.xbean.asm6.ClassReader.<init>(ClassReader.java:148)\n\tat org.apache.xbean.asm6.ClassReader.<init>(ClassReader.java:136)\n\tat org.apache.xbean.asm6.ClassReader.<init>(ClassReader.java:237)\n\tat org.apache.spark.util.ClosureCleaner$.getClassReader(ClosureCleaner.scala:49)\n\tat org.apache.spark.util.FieldAccessFinder$$anon$3$$anonfun$visitMethodInsn$2.apply(ClosureCleaner.scala:517)\n\tat org.apache.spark.util.FieldAccessFinder$$anon$3$$anonfun$visitMethodInsn$2.apply(ClosureCleaner.scala:500)\n\tat scala.collection.TraversableLike$WithFilter$$anonfun$foreach$1.apply(TraversableLike.scala:733)\n\tat scala.collection.mutable.HashMap$$anon$1$$anonfun$foreach$2.apply(HashMap.scala:134)\n\tat scala.collection.mutable.HashMap$$anon$1$$anonfun$foreach$2.apply(HashMap.scala:134)\n\tat scala.collection.mutable.HashTable$class.foreachEntry(HashTable.scala:236)\n\tat scala.collection.mutable.HashMap.foreachEntry(HashMap.scala:40)\n\tat scala.collection.mutable.HashMap$$anon$1.foreach(HashMap.scala:134)\n\tat scala.collection.TraversableLike$WithFilter.foreach(TraversableLike.scala:732)\n\tat org.apache.spark.util.FieldAccessFinder$$anon$3.visitMethodInsn(ClosureCleaner.scala:500)\n\tat org.apache.xbean.asm6.ClassReader.readCode(ClassReader.java:2175)\n\tat org.apache.xbean.asm6.ClassReader.readMethod(ClassReader.java:1238)\n\tat org.apache.xbean.asm6.ClassReader.accept(ClassReader.java:631)\n\tat org.apache.xbean.asm6.ClassReader.accept(ClassReader.java:355)\n\tat org.apache.spark.util.ClosureCleaner$$anonfun$org$apache$spark$util$ClosureCleaner$$clean$14.apply(ClosureCleaner.scala:307)\n\tat org.apache.spark.util.ClosureCleaner$$anonfun$org$apache$spark$util$ClosureCleaner$$clean$14.apply(ClosureCleaner.scala:306)\n\tat scala.collection.immutable.List.foreach(List.scala:392)\n\tat org.apache.spark.util.ClosureCleaner$.org$apache$spark$util$ClosureCleaner$$clean(ClosureCleaner.scala:306)\n\tat org.apache.spark.util.ClosureCleaner$.clean(ClosureCleaner.scala:162)\n\tat org.apache.spark.SparkContext.clean(SparkContext.scala:2326)\n\tat org.apache.spark.SparkContext.runJob(SparkContext.scala:2100)\n\tat org.apache.spark.SparkContext.runJob(SparkContext.scala:2126)\n\tat org.apache.spark.rdd.RDD$$anonfun$collect$1.apply(RDD.scala:945)\n\tat org.apache.spark.rdd.RDDOperationScope$.withScope(RDDOperationScope.scala:151)\n\tat org.apache.spark.rdd.RDDOperationScope$.withScope(RDDOperationScope.scala:112)\n\tat org.apache.spark.rdd.RDD.withScope(RDD.scala:363)\n\tat org.apache.spark.rdd.RDD.collect(RDD.scala:944)\n\tat org.apache.spark.sql.execution.SparkPlan.executeCollect(SparkPlan.scala:299)\n\tat org.apache.spark.sql.Dataset$$anonfun$count$1.apply(Dataset.scala:2836)\n\tat org.apache.spark.sql.Dataset$$anonfun$count$1.apply(Dataset.scala:2835)\n\tat org.apache.spark.sql.Dataset$$anonfun$52.apply(Dataset.scala:3370)\n\tat org.apache.spark.sql.execution.SQLExecution$$anonfun$withNewExecutionId$1.apply(SQLExecution.scala:78)\n\tat org.apache.spark.sql.execution.SQLExecution$.withSQLConfPropagated(SQLExecution.scala:125)\n\tat org.apache.spark.sql.execution.SQLExecution$.withNewExecutionId(SQLExecution.scala:73)\n\tat org.apache.spark.sql.Dataset.withAction(Dataset.scala:3369)\n\tat org.apache.spark.sql.Dataset.count(Dataset.scala:2835)\n\tat java.base/jdk.internal.reflect.NativeMethodAccessorImpl.invoke0(Native Method)\n\tat java.base/jdk.internal.reflect.NativeMethodAccessorImpl.invoke(NativeMethodAccessorImpl.java:62)\n\tat java.base/jdk.internal.reflect.DelegatingMethodAccessorImpl.invoke(DelegatingMethodAccessorImpl.java:43)\n\tat java.base/java.lang.reflect.Method.invoke(Method.java:566)\n\tat py4j.reflection.MethodInvoker.invoke(MethodInvoker.java:244)\n\tat py4j.reflection.ReflectionEngine.invoke(ReflectionEngine.java:357)\n\tat py4j.Gateway.invoke(Gateway.java:282)\n\tat py4j.commands.AbstractCommand.invokeMethod(AbstractCommand.java:132)\n\tat py4j.commands.CallCommand.execute(CallCommand.java:79)\n\tat py4j.GatewayConnection.run(GatewayConnection.java:238)\n\tat java.base/java.lang.Thread.run(Thread.java:834)\n",
            "\nDuring handling of the above exception, another exception occurred:\n",
            "\u001b[0;31mIllegalArgumentException\u001b[0m                  Traceback (most recent call last)",
            "\u001b[0;32m<ipython-input-64-3b58e00f6a6f>\u001b[0m in \u001b[0;36m<module>\u001b[0;34m()\u001b[0m\n\u001b[0;32m----> 1\u001b[0;31m \u001b[0mrc\u001b[0m\u001b[0;34m.\u001b[0m\u001b[0mcount\u001b[0m\u001b[0;34m(\u001b[0m\u001b[0;34m)\u001b[0m\u001b[0;34m\u001b[0m\u001b[0;34m\u001b[0m\u001b[0m\n\u001b[0m",
            "\u001b[0;32m/content/spark/python/pyspark/sql/dataframe.py\u001b[0m in \u001b[0;36mcount\u001b[0;34m(self)\u001b[0m\n\u001b[1;32m    521\u001b[0m         \u001b[0;36m2\u001b[0m\u001b[0;34m\u001b[0m\u001b[0;34m\u001b[0m\u001b[0m\n\u001b[1;32m    522\u001b[0m         \"\"\"\n\u001b[0;32m--> 523\u001b[0;31m         \u001b[0;32mreturn\u001b[0m \u001b[0mint\u001b[0m\u001b[0;34m(\u001b[0m\u001b[0mself\u001b[0m\u001b[0;34m.\u001b[0m\u001b[0m_jdf\u001b[0m\u001b[0;34m.\u001b[0m\u001b[0mcount\u001b[0m\u001b[0;34m(\u001b[0m\u001b[0;34m)\u001b[0m\u001b[0;34m)\u001b[0m\u001b[0;34m\u001b[0m\u001b[0;34m\u001b[0m\u001b[0m\n\u001b[0m\u001b[1;32m    524\u001b[0m \u001b[0;34m\u001b[0m\u001b[0m\n\u001b[1;32m    525\u001b[0m     \u001b[0;34m@\u001b[0m\u001b[0mignore_unicode_prefix\u001b[0m\u001b[0;34m\u001b[0m\u001b[0;34m\u001b[0m\u001b[0m\n",
            "\u001b[0;32m/content/spark/python/lib/py4j-0.10.7-src.zip/py4j/java_gateway.py\u001b[0m in \u001b[0;36m__call__\u001b[0;34m(self, *args)\u001b[0m\n\u001b[1;32m   1255\u001b[0m         \u001b[0manswer\u001b[0m \u001b[0;34m=\u001b[0m \u001b[0mself\u001b[0m\u001b[0;34m.\u001b[0m\u001b[0mgateway_client\u001b[0m\u001b[0;34m.\u001b[0m\u001b[0msend_command\u001b[0m\u001b[0;34m(\u001b[0m\u001b[0mcommand\u001b[0m\u001b[0;34m)\u001b[0m\u001b[0;34m\u001b[0m\u001b[0;34m\u001b[0m\u001b[0m\n\u001b[1;32m   1256\u001b[0m         return_value = get_return_value(\n\u001b[0;32m-> 1257\u001b[0;31m             answer, self.gateway_client, self.target_id, self.name)\n\u001b[0m\u001b[1;32m   1258\u001b[0m \u001b[0;34m\u001b[0m\u001b[0m\n\u001b[1;32m   1259\u001b[0m         \u001b[0;32mfor\u001b[0m \u001b[0mtemp_arg\u001b[0m \u001b[0;32min\u001b[0m \u001b[0mtemp_args\u001b[0m\u001b[0;34m:\u001b[0m\u001b[0;34m\u001b[0m\u001b[0;34m\u001b[0m\u001b[0m\n",
            "\u001b[0;32m/content/spark/python/pyspark/sql/utils.py\u001b[0m in \u001b[0;36mdeco\u001b[0;34m(*a, **kw)\u001b[0m\n\u001b[1;32m     77\u001b[0m                 \u001b[0;32mraise\u001b[0m \u001b[0mQueryExecutionException\u001b[0m\u001b[0;34m(\u001b[0m\u001b[0ms\u001b[0m\u001b[0;34m.\u001b[0m\u001b[0msplit\u001b[0m\u001b[0;34m(\u001b[0m\u001b[0;34m': '\u001b[0m\u001b[0;34m,\u001b[0m \u001b[0;36m1\u001b[0m\u001b[0;34m)\u001b[0m\u001b[0;34m[\u001b[0m\u001b[0;36m1\u001b[0m\u001b[0;34m]\u001b[0m\u001b[0;34m,\u001b[0m \u001b[0mstackTrace\u001b[0m\u001b[0;34m)\u001b[0m\u001b[0;34m\u001b[0m\u001b[0;34m\u001b[0m\u001b[0m\n\u001b[1;32m     78\u001b[0m             \u001b[0;32mif\u001b[0m \u001b[0ms\u001b[0m\u001b[0;34m.\u001b[0m\u001b[0mstartswith\u001b[0m\u001b[0;34m(\u001b[0m\u001b[0;34m'java.lang.IllegalArgumentException: '\u001b[0m\u001b[0;34m)\u001b[0m\u001b[0;34m:\u001b[0m\u001b[0;34m\u001b[0m\u001b[0;34m\u001b[0m\u001b[0m\n\u001b[0;32m---> 79\u001b[0;31m                 \u001b[0;32mraise\u001b[0m \u001b[0mIllegalArgumentException\u001b[0m\u001b[0;34m(\u001b[0m\u001b[0ms\u001b[0m\u001b[0;34m.\u001b[0m\u001b[0msplit\u001b[0m\u001b[0;34m(\u001b[0m\u001b[0;34m': '\u001b[0m\u001b[0;34m,\u001b[0m \u001b[0;36m1\u001b[0m\u001b[0;34m)\u001b[0m\u001b[0;34m[\u001b[0m\u001b[0;36m1\u001b[0m\u001b[0;34m]\u001b[0m\u001b[0;34m,\u001b[0m \u001b[0mstackTrace\u001b[0m\u001b[0;34m)\u001b[0m\u001b[0;34m\u001b[0m\u001b[0;34m\u001b[0m\u001b[0m\n\u001b[0m\u001b[1;32m     80\u001b[0m             \u001b[0;32mraise\u001b[0m\u001b[0;34m\u001b[0m\u001b[0;34m\u001b[0m\u001b[0m\n\u001b[1;32m     81\u001b[0m     \u001b[0;32mreturn\u001b[0m \u001b[0mdeco\u001b[0m\u001b[0;34m\u001b[0m\u001b[0;34m\u001b[0m\u001b[0m\n",
            "\u001b[0;31mIllegalArgumentException\u001b[0m: 'Unsupported class file major version 55'"
          ]
        }
      ]
    },
    {
      "cell_type": "code",
      "metadata": {
        "id": "PcCOblfh6lsg",
        "colab_type": "code",
        "colab": {}
      },
      "source": [
        ""
      ],
      "execution_count": 0,
      "outputs": []
    },
    {
      "cell_type": "markdown",
      "metadata": {
        "id": "rYOG3dFHuayy",
        "colab_type": "text"
      },
      "source": [
        "#heade"
      ]
    },
    {
      "cell_type": "code",
      "metadata": {
        "id": "OAzb-KVxuej_",
        "colab_type": "code",
        "colab": {}
      },
      "source": [
        ""
      ],
      "execution_count": 0,
      "outputs": []
    }
  ]
}